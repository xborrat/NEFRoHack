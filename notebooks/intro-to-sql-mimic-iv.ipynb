{
  "cells": [
    {
      "cell_type": "markdown",
      "metadata": {
        "id": "view-in-github",
        "colab_type": "text"
      },
      "source": [
        "<a href=\"https://colab.research.google.com/github/xborrat/NEFRoHack/blob/main/notebooks/intro-to-sql-mimic-iv.ipynb\" target=\"_parent\"><img src=\"https://colab.research.google.com/assets/colab-badge.svg\" alt=\"Open In Colab\"/></a>"
      ]
    },
    {
      "cell_type": "markdown",
      "metadata": {
        "id": "YI3bzd4hGSFb"
      },
      "source": [
        "# SQL Exercises\n",
        "\n",
        "The general learning objectives of these exercises are for you to:\n",
        "\n",
        "- understand the structure of MIMIC, and where to find more info\n",
        "- understand derived concepts already created for MIMIC\n",
        "\n",
        "Our first few cells will be a bit of setup."
      ]
    },
    {
      "cell_type": "code",
      "source": [
        "# Import libraries\n",
        "from datetime import timedelta\n",
        "import os\n",
        "from pathlib import Path\n",
        "\n",
        "\n",
        "import numpy as np\n",
        "import pandas as pd\n",
        "import re\n",
        "import matplotlib.pyplot as plt\n",
        "import matplotlib.dates as mdates\n",
        "\n",
        "# Make pandas dataframes prettier\n",
        "from IPython.display import display, HTML, Image\n",
        "%matplotlib inline\n",
        "\n",
        "plt.style.use('ggplot')\n",
        "plt.rcParams.update({'font.size': 20})\n",
        "\n",
        "# Access data using Google BigQuery.\n",
        "from google.colab import auth\n",
        "from google.cloud import bigquery"
      ],
      "metadata": {
        "id": "1R04hPqZUBwn"
      },
      "execution_count": null,
      "outputs": []
    },
    {
      "cell_type": "code",
      "source": [
        "# Set up environment variables\n",
        "project_id = 'lcp-internal'\n",
        "if project_id == 'CHANGE-ME':\n",
        "  raise ValueError('You must change project_id to your GCP project.')\n",
        "os.environ[\"GOOGLE_CLOUD_PROJECT\"] = project_id\n",
        "\n",
        "# Read data from BigQuery into pandas dataframes.\n",
        "def run_query(query, project_id=project_id):\n",
        "  return pd.io.gbq.read_gbq(\n",
        "      query,\n",
        "      project_id=project_id,\n",
        "      dialect='standard')\n",
        "\n",
        "# test it works\n",
        "df = run_query(\"SELECT * FROM physionet-data.mimiciv_hosp.patients LIMIT 5\")\n",
        "df.head()"
      ],
      "metadata": {
        "id": "n6VG4oSEKuN5"
      },
      "execution_count": null,
      "outputs": []
    },
    {
      "cell_type": "markdown",
      "source": [
        "If the above raises an error, you'll need to double check you've set your project correctly, and ensure that you have [requested access to MIMIC-IV on Google BigQuery via the PhysioNet project page](https://mimic-iv.mit.edu/docs/access/cloud/#accessing-mimic-iv-on-the-cloud)."
      ],
      "metadata": {
        "id": "mIrdJee-K9vA"
      }
    },
    {
      "cell_type": "markdown",
      "source": [
        "## Exercise questions\n",
        "\n",
        "We will be examining data for a single individual `subject_id`.\n"
      ],
      "metadata": {
        "id": "QdhMxmwG2mSt"
      }
    },
    {
      "cell_type": "code",
      "source": [
        "subject_id = 10000032"
      ],
      "metadata": {
        "id": "UA4clOsd5M7U"
      },
      "execution_count": null,
      "outputs": []
    },
    {
      "cell_type": "markdown",
      "source": [
        "You will f-string syntax frequently as this is used to insert the above `subject_id` into queries. Here's an example:"
      ],
      "metadata": {
        "id": "bB-3El3c5NbZ"
      }
    },
    {
      "cell_type": "code",
      "source": [
        "query = f\"Curly brackets are used to insert variables: {subject_id}.\"\n",
        "print(query)"
      ],
      "metadata": {
        "id": "bsOA6lVo5Tyo"
      },
      "execution_count": null,
      "outputs": []
    },
    {
      "cell_type": "markdown",
      "source": [
        "You can [read more about f-strings here](https://docs.python.org/3/tutorial/inputoutput.html)."
      ],
      "metadata": {
        "id": "MLwyHa8m6IEU"
      }
    },
    {
      "cell_type": "markdown",
      "source": [
        "# Questions"
      ],
      "metadata": {
        "id": "OJBJRBTnDfGw"
      }
    },
    {
      "cell_type": "markdown",
      "source": [
        "Question 1: Run the below query. How many rows are returned?"
      ],
      "metadata": {
        "id": "4VK28aEU6TPE"
      }
    },
    {
      "cell_type": "code",
      "source": [
        "df = run_query(f\"\"\"\n",
        "select\n",
        "    ce.subject_id\n",
        "  , ce.stay_id\n",
        "  , ce.charttime\n",
        "  , ce.valuenum\n",
        "FROM physionet-data.mimiciv_icu.chartevents ce\n",
        "where ce.subject_id = {subject_id}\n",
        "AND ce.itemid = 220045\n",
        "\"\"\")\n",
        "display(df)"
      ],
      "metadata": {
        "id": "yi8GmgHtCVSb"
      },
      "execution_count": null,
      "outputs": []
    },
    {
      "cell_type": "markdown",
      "source": [
        "Answer 1:"
      ],
      "metadata": {
        "id": "Pfo89PFABN6F"
      }
    },
    {
      "cell_type": "markdown",
      "source": [
        "Question 2: Write a query which counts the number of rows.\n"
      ],
      "metadata": {
        "id": "12z8ZGWQBOvw"
      }
    },
    {
      "cell_type": "code",
      "source": [
        "# Answer 2\n",
        "df = run_query(f\"\"\"\n",
        "\n",
        "\"\"\")\n",
        "display(df)"
      ],
      "metadata": {
        "id": "NeCwsnQWBRDN"
      },
      "execution_count": null,
      "outputs": []
    },
    {
      "cell_type": "markdown",
      "source": [
        "Question 3: Write a query which calculates the average of the `valuenum` column."
      ],
      "metadata": {
        "id": "vT66gKT6BQj1"
      }
    },
    {
      "cell_type": "code",
      "source": [
        "# Answer 3\n",
        "df = run_query(f\"\"\"\n",
        "\n",
        "\"\"\")\n",
        "display(df)"
      ],
      "metadata": {
        "id": "uPNnJ8JPBasH"
      },
      "execution_count": null,
      "outputs": []
    },
    {
      "cell_type": "markdown",
      "source": [
        "Question 4: Rewrite the above query to use the `value` column. It won't run. What is the error message you receive? What is the reason why this query won't run?"
      ],
      "metadata": {
        "id": "uZZNAWjtBTbb"
      }
    },
    {
      "cell_type": "code",
      "source": [
        "# Answer 4 - rewrite the query and demonstrate the error\n",
        "df = run_query(f\"\"\"\n",
        "\n",
        "\"\"\")\n",
        "display(df)"
      ],
      "metadata": {
        "id": "hq1sGVvSBf3z"
      },
      "execution_count": null,
      "outputs": []
    },
    {
      "cell_type": "markdown",
      "source": [
        "Answer 4 (explain the error):"
      ],
      "metadata": {
        "id": "JhEgoFQBBjg4"
      }
    },
    {
      "cell_type": "markdown",
      "source": [
        "Question 5: Write a query which identifies the *label* for the given `itemid`. What is the *label*?"
      ],
      "metadata": {
        "id": "DrcnGTskBUrN"
      }
    },
    {
      "cell_type": "code",
      "source": [
        "# Answer 5\n",
        "df = run_query(f\"\"\"\n",
        "\n",
        "\"\"\")\n",
        "display(df)"
      ],
      "metadata": {
        "id": "vc90kFgEBpK2"
      },
      "execution_count": null,
      "outputs": []
    },
    {
      "cell_type": "markdown",
      "source": [
        "## Vital signs"
      ],
      "metadata": {
        "id": "vC1xeXOgCRWv"
      }
    },
    {
      "cell_type": "markdown",
      "source": [
        "Question 6: Run the below query. What is `ce`? Where is it defined? Why is it used?"
      ],
      "metadata": {
        "id": "4W9g79ee8P3Z"
      }
    },
    {
      "cell_type": "code",
      "source": [
        "df = run_query(f\"\"\"\n",
        "select\n",
        "  ce.subject_id\n",
        "  , ce.charttime\n",
        "  , ROUND(\n",
        "      AVG(\n",
        "        CASE WHEN itemid IN (223761) AND valuenum > 70 AND valuenum < 120 THEN (valuenum-32)/1.8\n",
        "             WHEN itemid IN (223762) AND valuenum > 10 AND valuenum < 50  THEN valuenum\n",
        "        ELSE null END\n",
        "      )\n",
        "    , 2) as merged_value\n",
        "  , MAX(CASE WHEN itemid = 224642 THEN value ELSE NULL END) AS merged_site\n",
        "FROM physionet-data.mimiciv_icu.chartevents ce\n",
        "where ce.subject_id = {subject_id}\n",
        "AND ce.itemid IN (223761, 223762, 224642)\n",
        "GROUP BY ce.subject_id, ce.charttime\n",
        "\"\"\")\n",
        "display(df)"
      ],
      "metadata": {
        "id": "w032IsMCBwKP"
      },
      "execution_count": null,
      "outputs": []
    },
    {
      "cell_type": "markdown",
      "source": [
        "Answer 6:"
      ],
      "metadata": {
        "id": "iT2-OgFLBxeW"
      }
    },
    {
      "cell_type": "markdown",
      "source": [
        "\n",
        "Question 7: Explain what the CASE statement in the above query is doing.\n",
        "\n",
        "Answer 7:\n"
      ],
      "metadata": {
        "id": "lwjZ0hhgAtw_"
      }
    },
    {
      "cell_type": "markdown",
      "source": [
        "Question 8: Copy the above query into the next cell and remove the `charttime` column from the SELECT and GROUP BY statements. Re-run the query. How many rows are returned?\n"
      ],
      "metadata": {
        "id": "mRsGxRQNAvE1"
      }
    },
    {
      "cell_type": "code",
      "source": [
        "df = run_query(f\"\"\"\n",
        "\n",
        "\"\"\")\n",
        "display(df)"
      ],
      "metadata": {
        "id": "VLDmoC9-Aufn"
      },
      "execution_count": null,
      "outputs": []
    },
    {
      "cell_type": "markdown",
      "source": [
        "\n",
        "Answer 8:"
      ],
      "metadata": {
        "id": "LdJfkIOBAxWJ"
      }
    },
    {
      "cell_type": "markdown",
      "source": [
        "Question 9: Did we end up with a different number of rows in Question 8 versus when we originally ran the query (Question 6)? Why or why not?"
      ],
      "metadata": {
        "id": "yxMfTjWfA5xP"
      }
    },
    {
      "cell_type": "markdown",
      "source": [
        "Answer 9:"
      ],
      "metadata": {
        "id": "j87pWw75A8Zg"
      }
    },
    {
      "cell_type": "markdown",
      "source": [
        "Question 10 (bonus): What would change if we used `MIN()` instead of `MAX()` in the above query? Explain your reasoning."
      ],
      "metadata": {
        "id": "jenj3SGqA979"
      }
    },
    {
      "cell_type": "markdown",
      "source": [
        "Answer 10:"
      ],
      "metadata": {
        "id": "85lTN7LWA_Vf"
      }
    },
    {
      "cell_type": "markdown",
      "source": [
        "## Extracting Height\n",
        "\n",
        "The following query extracts the height of our subject as documented in *chartevents*."
      ],
      "metadata": {
        "id": "mPaO9sqC3TI6"
      }
    },
    {
      "cell_type": "code",
      "source": [
        "df = run_query(f\"\"\"\n",
        "-- prep height\n",
        "WITH ht_in AS\n",
        "(\n",
        "  SELECT\n",
        "    c.subject_id, c.stay_id, c.charttime\n",
        "    -- Ensure that all heights are in centimeters\n",
        "    , ROUND(c.valuenum * 2.54, 2) AS height\n",
        "    , c.valuenum as height_orig\n",
        "  FROM physionet-data.mimiciv_icu.chartevents c\n",
        "  WHERE c.valuenum IS NOT NULL\n",
        "  -- Height (measured in inches)\n",
        "  AND c.itemid = 226707\n",
        "  AND c.subject_id = {subject_id}\n",
        ")\n",
        ", ht_cm AS\n",
        "(\n",
        "  SELECT\n",
        "    c.subject_id, c.stay_id, c.charttime\n",
        "    -- Ensure that all heights are in centimeters\n",
        "    , ROUND(c.valuenum, 2) AS height\n",
        "  FROM physionet-data.mimiciv_icu.chartevents c\n",
        "  WHERE c.valuenum IS NOT NULL\n",
        "  -- Height cm\n",
        "  AND c.itemid = 226730\n",
        "  AND c.subject_id = {subject_id}\n",
        ")\n",
        "-- merge cm/height, only take 1 value per charted row\n",
        ", ht_stg0 AS\n",
        "(\n",
        "  SELECT\n",
        "  COALESCE(h1.subject_id, h2.subject_id) as subject_id\n",
        "  , COALESCE(h1.stay_id, h2.stay_id) AS stay_id\n",
        "  , COALESCE(h1.charttime, h2.charttime) AS charttime\n",
        "  , COALESCE(h1.height, h2.height) as height\n",
        "  FROM ht_cm h1\n",
        "  FULL OUTER JOIN ht_in h2\n",
        "    ON h1.subject_id = h2.subject_id\n",
        "    AND h1.charttime = h2.charttime\n",
        ")\n",
        "SELECT subject_id, stay_id, charttime, height\n",
        "FROM ht_stg0\n",
        "WHERE height IS NOT NULL\n",
        "-- filter out bad heights\n",
        "AND height > 120 AND height < 230;\n",
        "\"\"\")\n",
        "display(df)"
      ],
      "metadata": {
        "id": "uR0ohHGC2g1g"
      },
      "execution_count": null,
      "outputs": []
    },
    {
      "cell_type": "markdown",
      "source": [
        "Question 11: What is the purpose of the `COALESCE` statements?"
      ],
      "metadata": {
        "id": "DIzI1kq36dOI"
      }
    },
    {
      "cell_type": "markdown",
      "source": [
        "Answer 11:"
      ],
      "metadata": {
        "id": "rmxpY1wHAdpx"
      }
    },
    {
      "cell_type": "markdown",
      "source": [
        "## Writing SQL\n",
        "\n",
        "Question 12: Write a query which lists all hospital admissions for the patient; specifically their `hadm_id`, `admittime`, and `dischtime`.\n"
      ],
      "metadata": {
        "id": "8UzNKgFw63Ps"
      }
    },
    {
      "cell_type": "code",
      "source": [
        "df = run_query(f\"\"\"\n",
        "\n",
        "\"\"\")\n",
        "display(df)"
      ],
      "metadata": {
        "id": "_1rDaJo8AXAQ"
      },
      "execution_count": null,
      "outputs": []
    },
    {
      "cell_type": "markdown",
      "source": [
        "\n",
        "Question 13: Write a query which extracts the lowest and highest heart rate for the given `subject_id`.\n"
      ],
      "metadata": {
        "id": "7Mk25fsZAXWZ"
      }
    },
    {
      "cell_type": "code",
      "source": [
        "df = run_query(f\"\"\"\n",
        "\n",
        "\"\"\")\n",
        "display(df)"
      ],
      "metadata": {
        "id": "i94lah4kAYYi"
      },
      "execution_count": null,
      "outputs": []
    },
    {
      "cell_type": "markdown",
      "source": [
        "\n",
        "Question 14:  Write a query to extract the *first* heart rate for the given `subject_id`.\n"
      ],
      "metadata": {
        "id": "6zWyIGjoAYoJ"
      }
    },
    {
      "cell_type": "code",
      "source": [
        "df = run_query(f\"\"\"\n",
        "\n",
        "\"\"\")\n",
        "display(df)"
      ],
      "metadata": {
        "id": "aOCBSHSzAZX0"
      },
      "execution_count": null,
      "outputs": []
    },
    {
      "cell_type": "markdown",
      "source": [
        "\n",
        "Question 15: Write a query which returns all the INR values for the given `subject_id`. INR is a lab value routinely measured for critically ill patients.\n"
      ],
      "metadata": {
        "id": "8kbBriH3AZo-"
      }
    },
    {
      "cell_type": "code",
      "source": [
        "df = run_query(f\"\"\"\n",
        "\n",
        "\"\"\")\n",
        "display(df)"
      ],
      "metadata": {
        "id": "0sQuGxG5AaWz"
      },
      "execution_count": null,
      "outputs": []
    },
    {
      "cell_type": "markdown",
      "source": [
        "\n",
        "Question 16: Write a query to extract all the medications prescribed to the given `subject_id`, and a count of how many times they were prescribed."
      ],
      "metadata": {
        "id": "LidlgOJkAamK"
      }
    },
    {
      "cell_type": "code",
      "source": [
        "df = run_query(f\"\"\"\n",
        "\n",
        "\"\"\")\n",
        "display(df)"
      ],
      "metadata": {
        "id": "ouWHUJQfAmoT"
      },
      "execution_count": null,
      "outputs": []
    }
  ],
  "metadata": {
    "kernelspec": {
      "display_name": "Python 2",
      "language": "python",
      "name": "python2"
    },
    "language_info": {
      "codemirror_mode": {
        "name": "ipython",
        "version": 2
      },
      "file_extension": ".py",
      "mimetype": "text/x-python",
      "name": "python",
      "nbconvert_exporter": "python",
      "pygments_lexer": "ipython2",
      "version": "2.7.12"
    },
    "colab": {
      "provenance": [],
      "include_colab_link": true
    }
  },
  "nbformat": 4,
  "nbformat_minor": 0
}
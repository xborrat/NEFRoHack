{
  "cells": [
    {
      "cell_type": "markdown",
      "metadata": {
        "id": "view-in-github",
        "colab_type": "text"
      },
      "source": [
        "<a href=\"https://colab.research.google.com/github/xborrat/NEFRoHack/blob/main/notebooks/intro-to-sql-mimic-iv.ipynb\" target=\"_parent\"><img src=\"https://colab.research.google.com/assets/colab-badge.svg\" alt=\"Open In Colab\"/></a>"
      ]
    },
    {
      "cell_type": "markdown",
      "metadata": {
        "id": "YI3bzd4hGSFb"
      },
      "source": [
        "# Introduction to SQL starring MIMIC!\n",
        "\n",
        "The aim of this tutorial is to introduce Structured Query Language (SQL) through a publicly available medical database: the MIMIC-IV Clinical Database Demo.\n",
        "\n",
        "The general learning objectives for this tutorial are for you to have:\n",
        "\n",
        "- an understanding of relational databases\n",
        "- familiarity with the MIMIC-IV database\n",
        "- ability to select data from a database using Structured Query Language (SQL)\n",
        "- ability to reuse code in the MIMIC Code Repository\n",
        "- ability to use SQL aggregate and window functions\n",
        "\n",
        "In addition, specific to MIMIC, you will:\n",
        "\n",
        "* Understand what `subject_id`, `hadm_id`, and `icustay_id` represent\n",
        "\n",
        "Requirements:\n",
        "\n",
        "* Access to the MIMIC demo datasets on BigQuery.\n",
        "    * You need a Google project which you can bill usage to. When you first create a Google account, you are given $300 credit which is more than enough.\n",
        "    * Pin the `physionet-data` project on the BigQuery page. [Pinning is described on the BigQuery Web UI documentation from Google](https://cloud.google.com/bigquery/docs/bigquery-web-ui).\n",
        "    * If you would like to use the full version of MIMIC rather than the demo, you'll need to follow the [instructions for being granted access to the MIMIC BigQuery projects](https://mimic.mit.edu/docs/gettingstarted/cloud/).\n",
        "\n",
        "\n",
        "Our first few cells will be a bit of setup."
      ]
    },
    {
      "cell_type": "code",
      "execution_count": null,
      "metadata": {
        "id": "m_s5R2dgGSFk"
      },
      "outputs": [],
      "source": [
        "# Import libraries\n",
        "from datetime import timedelta\n",
        "import os\n",
        "import sqlite3\n",
        "import sys\n",
        "from pathlib import Path\n",
        "\n",
        "import numpy as np\n",
        "import pandas as pd\n",
        "import matplotlib.pyplot as plt\n",
        "import seaborn as sns\n",
        "import plotly.express as px\n",
        "\n",
        "# below imports are used for pretty pandas dataframes and plots\n",
        "from IPython.display import display, HTML\n",
        "%matplotlib inline\n",
        "plt.style.use('ggplot')\n",
        "plt.rcParams.update({'font.size': 22})"
      ]
    },
    {
      "cell_type": "markdown",
      "source": [
        "We need to authenticate this notebook with Google Cloud Platform (GCP) in order to query MIMIC on BigQuery."
      ],
      "metadata": {
        "id": "c_DzcWwk8F33"
      }
    },
    {
      "cell_type": "code",
      "source": [
        "# Access data using Google BigQuery.\n",
        "from google.colab import auth\n",
        "from google.cloud import bigquery\n",
        "\n",
        "# You only need to authenticate once per session.\n",
        "auth.authenticate_user()"
      ],
      "metadata": {
        "id": "QaAWPspO8FVw"
      },
      "execution_count": null,
      "outputs": []
    },
    {
      "cell_type": "markdown",
      "source": [
        "Now we will set the project name. **You will need to change the project_id in the below cell to your own project.**"
      ],
      "metadata": {
        "id": "MprOqwsP8IiP"
      }
    },
    {
      "cell_type": "code",
      "source": [
        "# Set up environment variables\n",
        "project_id = 'lcp-internal'\n",
        "os.environ[\"GOOGLE_CLOUD_PROJECT\"] = project_id\n",
        "\n",
        "# Read data from BigQuery into pandas dataframes.\n",
        "def run_query(query, project_id=project_id):\n",
        "    return pd.io.gbq.read_gbq(\n",
        "        query,\n",
        "        project_id=project_id,\n",
        "        dialect=\"standard\"\n",
        "    )\n",
        "\n",
        "# set the dataset\n",
        "# if you want to use the demo, change this to mimic_demo\n",
        "dataset = 'mimic'\n",
        "\n",
        "if project_id == 'CHANGE-ME':\n",
        "  raise ValueError('You must change project_id to your GCP project at the top of this cell.')\n",
        "\n",
        "# test it works\n",
        "df = run_query(\"\"\"\n",
        "SELECT *\n",
        "FROM physionet-data.mimiciv_hosp.patients\n",
        "WHERE subject_id = 10012853\n",
        "\"\"\")\n",
        "assert df.shape[0] >= 1, 'unable to query MIMIC!'\n",
        "display(df)"
      ],
      "metadata": {
        "id": "C3uoVzPu8JD9"
      },
      "execution_count": null,
      "outputs": []
    },
    {
      "cell_type": "markdown",
      "source": [
        "If the above raises an error, you'll need to double check you've set your project correctly, and ensure that you have [requested access to MIMIC-IV on Google BigQuery via the PhysioNet project page](https://mimic-iv.mit.edu/docs/access/cloud/#accessing-mimic-iv-on-the-cloud)."
      ],
      "metadata": {
        "id": "dWhG-2Hr8OCa"
      }
    },
    {
      "cell_type": "markdown",
      "source": [
        "\n",
        "## Introduction to MIMIC-IV\n",
        "\n",
        "MIMIC-IV is a publicly available dataset developed by the MIT Lab for Computational Physiology, comprising deidentified health data associated with >60,000 hospital stays.\n",
        "\n",
        "The dataset is provided as a collection of comma-separated value (CSV) files, which we have loaded into SQLite above. A list of tables is provided on the MIMIC website: https://mimic.mit.edu/docs/iv/modules/\n",
        "\n",
        "We have highlighted some of the key tables below:\n",
        "\n",
        "- *patients*: the set of patients included in the database, each identified by a unique `subject_id`.\n",
        "- *admissions*: the set of hospital admissions, each identified by a unique `hadm_id`.\n",
        "- *icustays*: the set of ICU stays, each identified by a unique `stay_id`.\n",
        "\n",
        "### Example questions\n",
        "\n",
        "1. Where would I find a patient's date of birth?\n",
        "2. Where would I find a patient's hospital admission time?\n",
        "\n",
        "## Example solutions\n",
        "\n",
        "1. The patient's date of birth can be found in the *patients* table, as detailed in the documentation: https://mimic.mit.edu/docs/iv/modules/hosp/patients/\n",
        "2. The patient's hospital admission time can be found in the *admissions* table, which tracks hospital admission information, as detailed here: https://mimic.mit.edu/docs/iv/modules/hosp/admissions/\n"
      ],
      "metadata": {
        "id": "1As2PnJTjfiO"
      }
    },
    {
      "cell_type": "markdown",
      "source": [
        "\n",
        "## Relational databases\n",
        "\n",
        "Relational databases can be thought of as a collection of tables which are linked together by shared keys. Organizing data across tables can help to maintain data integrity and enable faster analysis and more efficient storage.\n",
        "\n",
        "### Motivation: why would we want a relational database?\n",
        "\n",
        "Imagine trying to store data about a person: their name, age, and height. We can easily save this data in a CSV:\n",
        "\n",
        "    \"Name\", \"Age\", \"Height\"\n",
        "    \"Penny\",     30,     182\n",
        "\n",
        "Now what if we measure Penny's heart rate every hour for four hours at 8:00am, 9:00am, 10:00am, and 11:00 am.\n",
        "How should we store this data? The naive approach would be to simply concatenate the information we have all in one file:\n",
        "\n",
        "    \"Name\", \"Age\", \"Height\",  \"Time\", \"Heart rate\"\n",
        "    \"Penny\",     30,      182,  \"8:00\",          65\n",
        "    \"Penny\",     30,      182,  \"9:00\",          71\n",
        "    \"Penny\",     30,      182, \"10:00\",          72\n",
        "    \"Penny\",     30,      182, \"11:00\",          68\n",
        "\n",
        "This works, but it feels very inefficient. We have repeated her name (\"Penny\"), her age (30), and her height (182) every time we get a heart rate measurement. The immediate solution is to not store both of these in the same file: we make one file for Penny's demographics (age, height), and we make another file for heart rate measurements. Then, we make sure that her name is the same in both, so that we know that both sets of data relate to Penny. We've created a relational database. Since her name is what links the two tables together, we would call the name column a \"key\".\n",
        "\n",
        "### Database terminology\n",
        "\n",
        "- \"Database schema\": The model that defines the structure and relationships of the tables.\n",
        "- \"Database query\": Data is extracted from relational databases using structured \"queries\".\n",
        "- \"Primary key\": A primary key is a field that uniquely identifies each row in a table.\n",
        "- \"Foreign key\": A foreign key is a field that refers to a primary key in another table.\n",
        "- \"Normalisation\": The concept of structuring a database in a way that reduces data repetition and improves data integrity, usually by requiring one or more tables to be joined.\n",
        "- \"Denormalisation\": The concept of structuring a database to improve readability, sometimes at the expense of data repetition and data integrity.\n",
        "- \"Data type\": A term used to describe the behaviour of data and the possible values that it can hold (for example, integer, text, and date are all data types in PostgreSQL).\n",
        "\n",
        "Giving a simple example of a hospital database with four tables, it might comprise of: Table 1, a list of all patients; Table 2, a log of hospital admissions; Table 3, a list of vital sign measurements; Table 4, a dictionary of vital sign codes and associated labels.\n",
        "\n",
        "The patients table lists unique patients. The admissions table lists unique hospital admissions. The chartevents table lists charted events such as heart rate measurements. The `d_items` table is a dictionary that lists `itemid`s and associated labels, as shown in the example query. pk is primary key. fk is foreign key.\n"
      ],
      "metadata": {
        "id": "7LL4sTtXkqNt"
      }
    },
    {
      "cell_type": "markdown",
      "source": [
        "\n",
        "## What is Structured Query Language (SQL)?\n",
        "\n",
        "Structured Query Language (SQL) is a programming language used to manage relational databases.\n",
        "An SQL query has the following format:\n",
        "\n",
        "```\n",
        "SELECT [columns]\n",
        "FROM [table_name];\n",
        "```\n",
        "\n",
        "The simplest SQL query select a set of `[columns]` from a specific location, the `[table_name]`. Here's a real example you can run using the SQLite database loaded in. We know `subject_id` is in the `patients` table, so let's try to query for them."
      ],
      "metadata": {
        "id": "_yakPGpJkvRC"
      }
    },
    {
      "cell_type": "code",
      "source": [
        "df = run_query(f\"\"\"\n",
        "SELECT subject_id\n",
        "FROM physionet-data.mimiciv_hosp.patients\n",
        "\"\"\")\n",
        "display(df)"
      ],
      "metadata": {
        "id": "CeogDmzQk9aC"
      },
      "execution_count": null,
      "outputs": []
    },
    {
      "cell_type": "markdown",
      "source": [
        "Sometimes it can be useful to select all the columns. Although SQL rarely allows wildcards, the `*` can be used to select all possible columns in a table.\n"
      ],
      "metadata": {
        "id": "kniKBuoTk82d"
      }
    },
    {
      "cell_type": "code",
      "source": [
        "df = run_query(f\"\"\"\n",
        "SELECT *\n",
        "FROM physionet-data.mimiciv_hosp.patients\n",
        "\"\"\")\n",
        "display(df)"
      ],
      "metadata": {
        "id": "o7W4DkR6ku2P"
      },
      "execution_count": null,
      "outputs": []
    },
    {
      "cell_type": "markdown",
      "source": [
        "Try it yourself! Update the below query to select only the `subject_id` and `gender` columns."
      ],
      "metadata": {
        "id": "oa9JUtH0lYUj"
      }
    },
    {
      "cell_type": "code",
      "source": [
        "df = run_query(f\"\"\"\n",
        "SELECT *\n",
        "FROM physionet-data.mimiciv_hosp.patients\n",
        "\"\"\")\n",
        "display(df)"
      ],
      "metadata": {
        "id": "vZX9kGgSleP8"
      },
      "execution_count": null,
      "outputs": []
    },
    {
      "cell_type": "markdown",
      "source": [
        "\n",
        "### `WHERE` keyword\n",
        "\n",
        "Often you will want to select a subset of the data which satisfy some set of conditions.\n",
        "For example, you may want to select only female subjects from the database.\n",
        "This is easily accomplished with the `WHERE` keyword. The framework of our query becomes:\n",
        "\n",
        "```\n",
        "SELECT [columns]\n",
        "FROM [table_name]\n",
        "WHERE [conditions];\n",
        "```\n",
        "\n",
        "We can easily select all the `subject_id` corresponding to female subjects as follows:\n"
      ],
      "metadata": {
        "id": "aSiOzZ72ljDK"
      }
    },
    {
      "cell_type": "code",
      "source": [
        "df = run_query(f\"\"\"\n",
        "SELECT subject_id\n",
        "FROM physionet-data.mimiciv_hosp.patients\n",
        "WHERE gender = 'F';\n",
        "\"\"\")\n",
        "display(df)"
      ],
      "metadata": {
        "id": "Uj3a6H1KlmWz"
      },
      "execution_count": null,
      "outputs": []
    },
    {
      "cell_type": "markdown",
      "source": [
        "`WHERE` clauses are used to make a query return rows meeting only our specified criteria (our previous query, for example, returning only female patients). The simplest criteria is equality, `WHERE gender = 'F'`. Note that in this situation we specify a string, but this syntax will work for numbers as well. For example, we could select all the data for a single subject:\n"
      ],
      "metadata": {
        "id": "RlJq6Aallmfc"
      }
    },
    {
      "cell_type": "code",
      "source": [
        "df = run_query(f\"\"\"\n",
        "SELECT *\n",
        "FROM physionet-data.mimiciv_hosp.patients\n",
        "WHERE subject_id = 10008454;\n",
        "\"\"\")\n",
        "display(df)"
      ],
      "metadata": {
        "id": "b16q_aXnloj6"
      },
      "execution_count": null,
      "outputs": []
    },
    {
      "cell_type": "markdown",
      "source": [
        "`WHERE` clauses can be combined with standard logical operators `AND`/`OR`:\n"
      ],
      "metadata": {
        "id": "zVRuhvZYlowZ"
      }
    },
    {
      "cell_type": "code",
      "source": [
        "df = run_query(f\"\"\"\n",
        "SELECT *\n",
        "FROM physionet-data.mimiciv_hosp.patients\n",
        "WHERE subject_id = 10008454\n",
        "OR subject_id = 10010471\n",
        "OR subject_id = 999;\n",
        "\"\"\")\n",
        "display(df)"
      ],
      "metadata": {
        "id": "_4mpy1Irlqjh"
      },
      "execution_count": null,
      "outputs": []
    },
    {
      "cell_type": "markdown",
      "source": [
        "A useful shorthand for `OR` statements on the same column is the `IN` condition:\n"
      ],
      "metadata": {
        "id": "aMRUx18xlqrj"
      }
    },
    {
      "cell_type": "code",
      "source": [
        "df = run_query(f\"\"\"\n",
        "SELECT *\n",
        "FROM physionet-data.mimiciv_hosp.patients\n",
        "WHERE subject_id IN (10008454, 10010471, 999);\n",
        "\"\"\")\n",
        "display(df)"
      ],
      "metadata": {
        "id": "Hv-Z9eyWlsdd"
      },
      "execution_count": null,
      "outputs": []
    },
    {
      "cell_type": "markdown",
      "source": [
        "Above, we can see we have returned two rows, as there were two matches. While we included `999` in the `IN` clause, no `subject_id` had a value of `999`.\n",
        "\n",
        "We can also use the \"less than\" (`<`), \"less than or equal to\" `<=`, \"greater than\" (`>`), or \"greater than or equal to\" `>=` operators:\n"
      ],
      "metadata": {
        "id": "rFEmK4fFlsmL"
      }
    },
    {
      "cell_type": "code",
      "source": [
        "df = run_query(f\"\"\"\n",
        "SELECT *\n",
        "FROM physionet-data.mimiciv_hosp.patients\n",
        "WHERE subject_id >= 10008000\n",
        "AND subject_id <= 10012000;\n",
        "\"\"\")\n",
        "display(df)"
      ],
      "metadata": {
        "id": "0NahWefZltoV"
      },
      "execution_count": null,
      "outputs": []
    },
    {
      "cell_type": "markdown",
      "source": [
        "SQL also offers shorthand for `>=` and `<=` combinations with the `BETWEEN` condition:\n"
      ],
      "metadata": {
        "id": "NkYRtkq0ltxK"
      }
    },
    {
      "cell_type": "code",
      "source": [
        "df = run_query(f\"\"\"\n",
        "SELECT *\n",
        "FROM physionet-data.mimiciv_hosp.patients\n",
        "WHERE subject_id BETWEEN 10008000 AND 10012000;\n",
        "\"\"\")\n",
        "display(df)"
      ],
      "metadata": {
        "id": "xQQelDQFluoj"
      },
      "execution_count": null,
      "outputs": []
    },
    {
      "cell_type": "markdown",
      "source": [
        "Note the `BETWEEN` operator is inclusive. Verify for yourself that the above two queries give the same result.\n",
        "\n",
        "When working with text data, we'll often want to search for partial string matches rather than exact matches. This can be accomplished with the `LIKE` keyword:\n"
      ],
      "metadata": {
        "id": "7UfUPa3uluwH"
      }
    },
    {
      "cell_type": "code",
      "source": [
        "df = run_query(f\"\"\"\n",
        "SELECT *\n",
        "FROM physionet-data.mimiciv_icu.icustays\n",
        "WHERE first_careunit LIKE '%ICU%';\n",
        "\"\"\")\n",
        "display(df)"
      ],
      "metadata": {
        "id": "Po22wD5dlv0U"
      },
      "execution_count": null,
      "outputs": []
    },
    {
      "cell_type": "markdown",
      "source": [
        "Note the use of the wildcard character `%`, which matches any text. Note the placement of two wildcard operators.\n",
        "\n",
        "* `LIKE 'ICU%'` - match text that *starts with ICU*\n",
        "* `LIKE '%ICU'` - match text that *ends with ICU*\n",
        "* `LIKE '%ICU%'` - match text that *contains the letters ICU*\n"
      ],
      "metadata": {
        "id": "CYOztw7wlv9K"
      }
    },
    {
      "cell_type": "markdown",
      "source": [
        "### ORDER BY keyword\n",
        "\n",
        "The `ORDER BY` keyword is relatively straightforward: it will sort the data in the order you specify.\n",
        "\n",
        "```\n",
        "SELECT [columns]\n",
        "FROM [table_name]\n",
        "WHERE [conditions]\n",
        "ORDER BY [columns];\n",
        "```\n",
        "\n",
        "The below query orders the results by the patient `anchor_age`\n"
      ],
      "metadata": {
        "id": "OA7V6pnfl64K"
      }
    },
    {
      "cell_type": "code",
      "source": [
        "df = run_query(f\"\"\"\n",
        "SELECT subject_id, anchor_age\n",
        "FROM physionet-data.mimiciv_hosp.patients\n",
        "ORDER BY anchor_age\n",
        "\"\"\")\n",
        "display(df)"
      ],
      "metadata": {
        "id": "MOeSYKwQl_wG"
      },
      "execution_count": null,
      "outputs": []
    },
    {
      "cell_type": "markdown",
      "source": [
        "Note that the `WHERE` clause is optional, and in the above query we have omitted it. However, we must respect the order of the keywords - and if we use the `WHERE` keyword it must appear after the `FROM` keyword and before the `ORDER BY` keyword.\n",
        "\n",
        "For simplicity, we can also replace the column names in the `ORDER BY` clause with the numeric column index (1-index). The following returns the same result as the above query."
      ],
      "metadata": {
        "id": "uqcjPJ61l_7c"
      }
    },
    {
      "cell_type": "code",
      "source": [
        "df = run_query(f\"\"\"\n",
        "SELECT subject_id, anchor_age\n",
        "FROM physionet-data.mimiciv_hosp.patients\n",
        "ORDER BY 2\n",
        "\"\"\")\n",
        "display(df)"
      ],
      "metadata": {
        "id": "aTrg5Rk-qpMo"
      },
      "execution_count": null,
      "outputs": []
    },
    {
      "cell_type": "markdown",
      "source": [
        "\n",
        "### JOIN keyword\n",
        "\n",
        "Often we need information coming from multiple tables. This can be achieved using the SQL `JOIN` keyword. There are several types of join, including `INNER JOIN`, `LEFT JOIN`, and `RIGHT JOIN`. It is important to understand the difference between these joins because their usage can significantly impact query results. Detailed guidance on joins is widely available on the web.\n",
        "\n",
        "Using the `INNER JOIN` keyword, let's select a list of patients from the *patients* table along with dates of birth, and join to the *admissions* table to get the admission time for each hospital admission. We use the `INNER JOIN` to indicate that two or more tables should be combined based on a common attribute, which in our case is `subject_id`:\n"
      ],
      "metadata": {
        "id": "3TInsGqVmGx5"
      }
    },
    {
      "cell_type": "code",
      "source": [
        "df = run_query(f\"\"\"\n",
        "SELECT p.subject_id, a.hadm_id, a.admittime\n",
        "FROM physionet-data.mimiciv_hosp.patients p\n",
        "INNER JOIN physionet-data.mimiciv_hosp.admissions a\n",
        "ON p.subject_id = a.subject_id\n",
        "ORDER BY p.subject_id, a.admittime\n",
        "\"\"\")\n",
        "display(df)"
      ],
      "metadata": {
        "id": "fCHC2YjWmMNq"
      },
      "execution_count": null,
      "outputs": []
    },
    {
      "cell_type": "markdown",
      "source": [
        "Note that an `INNER JOIN` will only return rows where subject_id appears in both the patients table and the admissions table.\n",
        "\n",
        "A `LEFT JOIN` will include every row on the left, but only matching rows on the right. So we join *from the left*.\n",
        "\n",
        "A `RIGHT JOIN` will include every row on the right, but only matching rows on the left. So we join *from the right*.\n",
        "\n",
        "Don't worry if you are bad with your lefts and rights. Practically speaking, you only need `INNER JOIN` and `LEFT JOIN`. If you really insist, you can use `RIGHT JOIN`, but it's unconventional."
      ],
      "metadata": {
        "id": "zSkANxqsmUEL"
      }
    },
    {
      "cell_type": "markdown",
      "source": [
        "### ROUND and other functions\n",
        "\n",
        "Sometimes we will want to perform operations on columns. For example, if we are only interested in length of stay (`los`) to the nearest day, we can use the `round` function:\n"
      ],
      "metadata": {
        "id": "WrJXu91NoUYL"
      }
    },
    {
      "cell_type": "code",
      "source": [
        "df = run_query(f\"\"\"\n",
        "SELECT hadm_id, round(los)\n",
        "FROM physionet-data.mimiciv_icu.icustays;\n",
        "\"\"\")\n",
        "display(df)"
      ],
      "metadata": {
        "id": "vNTlTc9xoafn"
      },
      "execution_count": null,
      "outputs": []
    },
    {
      "cell_type": "markdown",
      "source": [
        "Note that the column name ends up being `round(los)`. We can specify the column name using the `AS` keyword:\n"
      ],
      "metadata": {
        "id": "7UbEDa1roapx"
      }
    },
    {
      "cell_type": "code",
      "source": [
        "df = run_query(f\"\"\"\n",
        "SELECT hadm_id, round(los) AS los_integer_days\n",
        "FROM physionet-data.mimiciv_icu.icustays;\n",
        "\"\"\")\n",
        "display(df)"
      ],
      "metadata": {
        "id": "JcELYCrwocd1"
      },
      "execution_count": null,
      "outputs": []
    },
    {
      "cell_type": "markdown",
      "source": [
        "There are a large number of operations available in SQL.  Since we are using SQLite, we would look at the [SQLite core functions page](https://www.sqlite.org/lang_corefunc.html), which includes [round(X)](https://www.sqlite.org/lang_corefunc.html#round).\n"
      ],
      "metadata": {
        "id": "RMSKm6W-oc1Q"
      }
    },
    {
      "cell_type": "markdown",
      "source": [
        "\n",
        "\n",
        "### CASE statement for if/else logic\n",
        "\n",
        "The `CASE` statement is used to handle if/else logic. For example, using the *patients* table you may want to group patients by age.\n"
      ],
      "metadata": {
        "id": "RTDgrCJ_o0pU"
      }
    },
    {
      "cell_type": "code",
      "source": [
        "df = run_query(f\"\"\"\n",
        "SELECT subject_id, anchor_age,\n",
        "    CASE WHEN anchor_age < 20 THEN 'youth'\n",
        "         WHEN anchor_age < 40 THEN 'young adult'\n",
        "         WHEN anchor_age < 60 THEN 'middle adult'\n",
        "         WHEN anchor_age >= 60 THEN 'older adult'\n",
        "         ELSE NULL END AS age_group\n",
        "FROM physionet-data.mimiciv_hosp.patients;\n",
        "\"\"\")\n",
        "display(df)"
      ],
      "metadata": {
        "id": "UlLFbnbMo5Rj"
      },
      "execution_count": null,
      "outputs": []
    },
    {
      "cell_type": "markdown",
      "source": [
        "### Aggregate functions\n",
        "\n",
        "We are often interested in finding an aggregate value across multiple rows, such as the number of patients meeting a condition, an average heart rate, or a maximum blood pressure. We can do this using aggregate functions, such as `COUNT()`, `MAX()`, `SUM()`, and `AVG()`.\n",
        "\n",
        "Count the number of rows in the *icustays* table with the `COUNT()` function:\n"
      ],
      "metadata": {
        "id": "1BO9vigMrtEs"
      }
    },
    {
      "cell_type": "code",
      "source": [
        "df = run_query(f\"\"\"\n",
        "SELECT count(*)\n",
        "FROM physionet-data.mimiciv_icu.icustays;\n",
        "\"\"\")\n",
        "display(df)"
      ],
      "metadata": {
        "id": "-jMWGyXksGeg"
      },
      "execution_count": null,
      "outputs": []
    },
    {
      "cell_type": "markdown",
      "source": [
        "\n",
        "Find the maximum length of stay in the *icustays* table with the `MAX()` function:\n"
      ],
      "metadata": {
        "id": "B-3xC08UsHjZ"
      }
    },
    {
      "cell_type": "code",
      "source": [
        "df = run_query(f\"\"\"\n",
        "SELECT MAX(los)\n",
        "FROM physionet-data.mimiciv_icu.icustays;\n",
        "\"\"\")\n",
        "display(df)"
      ],
      "metadata": {
        "id": "wMCaaFIcsIUg"
      },
      "execution_count": null,
      "outputs": []
    },
    {
      "cell_type": "markdown",
      "source": [
        "Aggregate are often combined with a `GROUP BY` clause, so that the aggregate function is applied to specific groups. For example, we can find the maximum length of stay, grouped for each patient:"
      ],
      "metadata": {
        "id": "abNM3FuesJDV"
      }
    },
    {
      "cell_type": "code",
      "source": [
        "df = run_query(f\"\"\"\n",
        "SELECT subject_id, MAX(los)\n",
        "FROM physionet-data.mimiciv_icu.icustays\n",
        "GROUP BY subject_id;\n",
        "\"\"\")\n",
        "display(df)"
      ],
      "metadata": {
        "id": "94fcw741sJ5w"
      },
      "execution_count": null,
      "outputs": []
    },
    {
      "cell_type": "markdown",
      "source": [
        "Notice how the above now returns 100 rows, whereas we originally had 140 ICU stays.\n",
        "\n",
        "We may want to add a condition based on our new aggregate column. The `WHERE` clause won't filter on an aggregate column, so instead we use the `HAVING` keyword. For example, we can find the maximum length of stay, grouped for each patient, returning only patients whose maximum stay is less than 10 days:"
      ],
      "metadata": {
        "id": "TgI-NkahsK1T"
      }
    },
    {
      "cell_type": "code",
      "source": [
        "df = run_query(f\"\"\"\n",
        "SELECT subject_id, MAX(los)\n",
        "FROM physionet-data.mimiciv_icu.icustays\n",
        "GROUP BY subject_id\n",
        "HAVING MAX(los) <= 10;\n",
        "\"\"\")\n",
        "display(df)"
      ],
      "metadata": {
        "id": "_O2jap-msNBA"
      },
      "execution_count": null,
      "outputs": []
    },
    {
      "cell_type": "markdown",
      "source": [
        "This returns fewer rows than the above, as we've filtered out those with long stays (>= 10 days)."
      ],
      "metadata": {
        "id": "DfYUuwOMsjAm"
      }
    },
    {
      "cell_type": "markdown",
      "source": [
        "### Window functions\n",
        "\n",
        "Sometimes an aggregate function isn't quite what we need. For example, we might want to create a column that lists the order of admissions to the ICU for each patient. In this case we do not want to group all of the rows with the same `subject_id` into a single row, so a simple a aggregate function is insufficient. Instead, we want to return multiple rows for each `subject_id`, with the order of admission computed over a `subject_id` window. For example, let's find the order of admission to the ICU for each patient using the `RANK()` window function:"
      ],
      "metadata": {
        "id": "t6ZyCGtdruTz"
      }
    },
    {
      "cell_type": "code",
      "source": [
        "df = run_query(f\"\"\"\n",
        "SELECT subject_id, stay_id, intime,\n",
        "    RANK() OVER (PARTITION BY subject_id ORDER BY intime)\n",
        "FROM physionet-data.mimiciv_icu.icustays;\n",
        "\"\"\")\n",
        "display(df)"
      ],
      "metadata": {
        "id": "e-TPSeYAspgR"
      },
      "execution_count": null,
      "outputs": []
    },
    {
      "cell_type": "markdown",
      "source": [
        "### Temporary tables\n",
        "\n",
        "It is sometimes helpful to create temporary views or tables to break a large query into smaller, more manageable chunks. It can also be useful to *use* the output of a query. For example, in the above we ranked patients by the sequence of their ICU stays. We may want to now filter to first ICU stay.\n",
        "\n",
        "There are several approaches that can be used to create temporary tables. The simplest method uses the `WITH` keyword. For example, we'll create a temporary view called `icustayorder` using the previous query, and then select all of its columns:\n"
      ],
      "metadata": {
        "id": "7xrzAf-QsAPk"
      }
    },
    {
      "cell_type": "code",
      "source": [
        "df = run_query(f\"\"\"\n",
        "WITH icustayorder AS\n",
        "(\n",
        "SELECT subject_id, stay_id, intime,\n",
        "  RANK() OVER (PARTITION BY subject_id ORDER BY intime) AS rank\n",
        "FROM physionet-data.mimiciv_icu.icustays\n",
        ")\n",
        "SELECT *\n",
        "FROM icustayorder\n",
        "WHERE rank = 1;\n",
        "\"\"\")\n",
        "display(df)"
      ],
      "metadata": {
        "id": "6R1piXh7rwsz"
      },
      "execution_count": null,
      "outputs": []
    },
    {
      "cell_type": "markdown",
      "source": [
        "Note we also needed to give the column a name, which we did using the `AS` keyword (`AS rank`)."
      ],
      "metadata": {
        "id": "M_CJLC8atG4u"
      }
    },
    {
      "cell_type": "markdown",
      "source": [
        "\n",
        "# Multiple temporary views\n",
        "\n",
        "Using the `WITH` statement, you can have more than one inline view. The `services` table contains information about what type of care a patient is receiving in the hospital."
      ],
      "metadata": {
        "id": "jJo7XxpNrwzC"
      }
    },
    {
      "cell_type": "code",
      "source": [
        "df = run_query(f\"\"\"\n",
        "SELECT subject_id, hadm_id, transfertime, prev_service, curr_service\n",
        "FROM physionet-data.mimiciv_hosp.services;\n",
        "\"\"\")\n",
        "display(df)"
      ],
      "metadata": {
        "id": "To56EG1ctM-K"
      },
      "execution_count": null,
      "outputs": []
    },
    {
      "cell_type": "markdown",
      "source": [
        "Note that the `services` table doesn't have `stay_id`, but we can join to it using `hadm_id`."
      ],
      "metadata": {
        "id": "TZ6Gq79AtREY"
      }
    },
    {
      "cell_type": "code",
      "source": [
        "df = run_query(f\"\"\"\n",
        "WITH serv as (\n",
        "  SELECT subject_id, hadm_id, transfertime, prev_service, curr_service\n",
        "  FROM physionet-data.mimiciv_hosp.services\n",
        ")\n",
        ", icu as\n",
        "(\n",
        "  SELECT subject_id, hadm_id, stay_id, intime, outtime\n",
        "  FROM physionet-data.mimiciv_icu.icustays\n",
        ")\n",
        "SELECT icu.subject_id, icu.hadm_id, icu.stay_id, icu.intime, icu.outtime\n",
        ", serv.transfertime, serv.prev_service, serv.curr_service\n",
        "FROM icu\n",
        "INNER JOIN serv\n",
        "ON icu.hadm_id = serv.hadm_id\n",
        "\"\"\")\n",
        "display(df)"
      ],
      "metadata": {
        "id": "wXbeHZmbtQc8"
      },
      "execution_count": null,
      "outputs": []
    },
    {
      "cell_type": "markdown",
      "source": [
        "However, something subtle has happened in this join. Let's see how many rows of data are returned by the above query. We can do this using the aggregate operator `COUNT()`:\n"
      ],
      "metadata": {
        "id": "wviOgQBqtTnK"
      }
    },
    {
      "cell_type": "code",
      "source": [
        "df = run_query(f\"\"\"\n",
        "WITH serv as (\n",
        "  SELECT subject_id, hadm_id, transfertime, prev_service, curr_service\n",
        "  FROM physionet-data.mimiciv_hosp.services\n",
        ")\n",
        ", icu as\n",
        "(\n",
        "  SELECT subject_id, hadm_id, stay_id, intime, outtime\n",
        "  FROM physionet-data.mimiciv_icu.icustays\n",
        ")\n",
        "SELECT COUNT(*)\n",
        "FROM icu\n",
        "INNER JOIN serv\n",
        "ON icu.hadm_id = serv.hadm_id\n",
        "\"\"\")\n",
        "display(df)"
      ],
      "metadata": {
        "id": "ippiwIBVtiL2"
      },
      "execution_count": null,
      "outputs": []
    },
    {
      "cell_type": "markdown",
      "source": [
        "We have replaced all the column names with `COUNT(*)` - which means \"count all the rows\". What result do you get? Let's compare it to the original *icustays* table:"
      ],
      "metadata": {
        "id": "3_GtW8mNtiTg"
      }
    },
    {
      "cell_type": "code",
      "source": [
        "df = run_query(f\"\"\"\n",
        "SELECT count(*)\n",
        "FROM physionet-data.mimiciv_icu.icustays;\n",
        "\"\"\")\n",
        "display(df)"
      ],
      "metadata": {
        "id": "hUeL1huctou-"
      },
      "execution_count": null,
      "outputs": []
    },
    {
      "cell_type": "markdown",
      "source": [
        "So what happened?\n",
        "\n",
        "Intuitively, each hospital admission (`hadm_id`) can have multiple service types (i.e. the patient transferred from surgical to medical), and can have multiple ICU stays (i.e. the patient was readmitted to the ICU). As a result, the first query duplicates rows by matching every service the patient was under to every ICU stay the patient had, regardless of whether they match. This is because we are only joining on `hadm_id`, so the only constraint is that the two events occurred in the same hospitalization. Of course, we do not want this to happen, since a patient is only ever on one service at a time. More technically, the first query joined two tables on non-unique keys: there may be multiple `hadm_id` with the same value in the *services* table, and there may be multiple `hadm_id` with the same value in the *admissions* table. For example, if the *services* table has `hadm_id = 100001` repeated N times, and the *admissions* table has `hadm_id = 100001` repeated M times, then joining these two on `hadm_id` will result in a table with NxM rows: one for every pair. With MIMIC, it is generally very bad practice to join two tables on non-unique columns: at least one of the tables should have unique values for the column, otherwise you end up with duplicate rows and the query results can be confusing.\n",
        "\n",
        "\n",
        "We can fix this by bringing in the `RANK` we worked with earlier, and only join against the *first* service. The general principle here is to **ensure each side of a join is unique**."
      ],
      "metadata": {
        "id": "nynCIWiwto2w"
      }
    },
    {
      "cell_type": "code",
      "source": [
        "df = run_query(f\"\"\"\n",
        "WITH serv as (\n",
        "  SELECT subject_id, hadm_id, transfertime, prev_service, curr_service,\n",
        "    RANK() OVER (PARTITION BY hadm_id ORDER BY transfertime) as rank\n",
        "  FROM physionet-data.mimiciv_hosp.services\n",
        ")\n",
        ", icu as\n",
        "(\n",
        "  SELECT subject_id, hadm_id, stay_id, intime, outtime\n",
        "  FROM physionet-data.mimiciv_icu.icustays\n",
        ")\n",
        "SELECT COUNT(*)\n",
        "FROM icu\n",
        "INNER JOIN serv\n",
        "ON icu.hadm_id = serv.hadm_id\n",
        "AND serv.rank = 1;\n",
        "\"\"\")\n",
        "display(df)"
      ],
      "metadata": {
        "id": "xQcd8meDt4Wt"
      },
      "execution_count": null,
      "outputs": []
    },
    {
      "cell_type": "markdown",
      "source": [
        "## Exercise questions\n",
        "\n",
        "We will be examining data for a single individual `subject_id`.\n"
      ],
      "metadata": {
        "id": "QdhMxmwG2mSt"
      }
    },
    {
      "cell_type": "code",
      "source": [
        "subject_id = 10000032"
      ],
      "metadata": {
        "id": "UA4clOsd5M7U"
      },
      "execution_count": null,
      "outputs": []
    },
    {
      "cell_type": "markdown",
      "source": [
        "You will f-string syntax frequently as this is used to insert the above `subject_id` into queries. Here's an example:"
      ],
      "metadata": {
        "id": "bB-3El3c5NbZ"
      }
    },
    {
      "cell_type": "code",
      "source": [
        "query = f\"Curly brackets are used to insert variables: {subject_id}.\"\n",
        "print(query)"
      ],
      "metadata": {
        "id": "bsOA6lVo5Tyo"
      },
      "execution_count": null,
      "outputs": []
    },
    {
      "cell_type": "markdown",
      "source": [
        "You can [read more about f-strings here](https://docs.python.org/3/tutorial/inputoutput.html)."
      ],
      "metadata": {
        "id": "MLwyHa8m6IEU"
      }
    },
    {
      "cell_type": "markdown",
      "source": [
        "# Questions"
      ],
      "metadata": {
        "id": "OJBJRBTnDfGw"
      }
    },
    {
      "cell_type": "markdown",
      "source": [
        "Question 1: Run the below query. How many rows are returned?"
      ],
      "metadata": {
        "id": "4VK28aEU6TPE"
      }
    },
    {
      "cell_type": "code",
      "source": [
        "df = run_query(f\"\"\"\n",
        "SELECT *\n",
        "FROM physionet-data.mimiciv_hosp.patients\n",
        "\"\"\")\n",
        "display(df)"
      ],
      "metadata": {
        "id": "ltOJcRl6iImg"
      },
      "execution_count": null,
      "outputs": []
    },
    {
      "cell_type": "markdown",
      "source": [
        "Answer 1:"
      ],
      "metadata": {
        "id": "Pfo89PFABN6F"
      }
    },
    {
      "cell_type": "markdown",
      "source": [
        "Question 2: Write a query which counts the number of rows.\n"
      ],
      "metadata": {
        "id": "12z8ZGWQBOvw"
      }
    },
    {
      "cell_type": "code",
      "source": [
        "# Answer 2\n",
        "df = run_query(f\"\"\"\n",
        "\n",
        "\"\"\")\n",
        "display(df)"
      ],
      "metadata": {
        "id": "NeCwsnQWBRDN"
      },
      "execution_count": null,
      "outputs": []
    },
    {
      "cell_type": "markdown",
      "source": [
        "Question 3: Write a query which calculates the average of the `valuenum` column."
      ],
      "metadata": {
        "id": "vT66gKT6BQj1"
      }
    },
    {
      "cell_type": "code",
      "source": [
        "# Answer 3\n",
        "df = run_query(f\"\"\"\n",
        "\n",
        "\"\"\")\n",
        "display(df)"
      ],
      "metadata": {
        "id": "uPNnJ8JPBasH"
      },
      "execution_count": null,
      "outputs": []
    },
    {
      "cell_type": "markdown",
      "source": [
        "Question 4: Rewrite the above query to use the `value` column. It won't run. What is the error message you receive? What is the reason why this query won't run?"
      ],
      "metadata": {
        "id": "uZZNAWjtBTbb"
      }
    },
    {
      "cell_type": "code",
      "source": [
        "# Answer 4 - rewrite the query and demonstrate the error\n",
        "df = run_query(f\"\"\"\n",
        "\n",
        "\"\"\")\n",
        "display(df)"
      ],
      "metadata": {
        "id": "hq1sGVvSBf3z"
      },
      "execution_count": null,
      "outputs": []
    },
    {
      "cell_type": "markdown",
      "source": [
        "Answer 4 (explain the error):"
      ],
      "metadata": {
        "id": "JhEgoFQBBjg4"
      }
    },
    {
      "cell_type": "markdown",
      "source": [
        "Question 5: Write a query which identifies the *label* for the given `itemid`. What is the *label*?"
      ],
      "metadata": {
        "id": "DrcnGTskBUrN"
      }
    },
    {
      "cell_type": "code",
      "source": [
        "# Answer 5\n",
        "df = run_query(f\"\"\"\n",
        "\n",
        "\"\"\")\n",
        "display(df)"
      ],
      "metadata": {
        "id": "vc90kFgEBpK2"
      },
      "execution_count": null,
      "outputs": []
    },
    {
      "cell_type": "markdown",
      "source": [
        "## Vital signs"
      ],
      "metadata": {
        "id": "vC1xeXOgCRWv"
      }
    },
    {
      "cell_type": "markdown",
      "source": [
        "Question 6: Run the below query. What is `ce`? Where is it defined? Why is it used?"
      ],
      "metadata": {
        "id": "4W9g79ee8P3Z"
      }
    },
    {
      "cell_type": "code",
      "source": [
        "df = run_query(f\"\"\"\n",
        "select\n",
        "  ce.subject_id\n",
        "  , ce.charttime\n",
        "  , ROUND(\n",
        "      AVG(\n",
        "        CASE WHEN itemid IN (223761) AND valuenum > 70 AND valuenum < 120 THEN (valuenum-32)/1.8\n",
        "             WHEN itemid IN (223762) AND valuenum > 10 AND valuenum < 50  THEN valuenum\n",
        "        ELSE null END\n",
        "      )\n",
        "    , 2) as merged_value\n",
        "  , MAX(CASE WHEN itemid = 224642 THEN value ELSE NULL END) AS merged_site\n",
        "FROM physionet-data.mimiciv_icu.chartevents ce\n",
        "where ce.subject_id = {subject_id}\n",
        "AND ce.itemid IN (223761, 223762, 224642)\n",
        "GROUP BY ce.subject_id, ce.charttime\n",
        "\"\"\")\n",
        "display(df)"
      ],
      "metadata": {
        "id": "w032IsMCBwKP"
      },
      "execution_count": null,
      "outputs": []
    },
    {
      "cell_type": "markdown",
      "source": [
        "Answer 6:"
      ],
      "metadata": {
        "id": "iT2-OgFLBxeW"
      }
    },
    {
      "cell_type": "markdown",
      "source": [
        "\n",
        "Question 7: Explain what the CASE statement in the above query is doing.\n",
        "\n",
        "Answer 7:\n"
      ],
      "metadata": {
        "id": "lwjZ0hhgAtw_"
      }
    },
    {
      "cell_type": "markdown",
      "source": [
        "Question 8: Copy the above query into the next cell and remove the `charttime` column from the SELECT and GROUP BY statements. Re-run the query. How many rows are returned?\n"
      ],
      "metadata": {
        "id": "mRsGxRQNAvE1"
      }
    },
    {
      "cell_type": "code",
      "source": [
        "df = run_query(f\"\"\"\n",
        "\n",
        "\"\"\")\n",
        "display(df)"
      ],
      "metadata": {
        "id": "VLDmoC9-Aufn"
      },
      "execution_count": null,
      "outputs": []
    },
    {
      "cell_type": "markdown",
      "source": [
        "\n",
        "Answer 8:"
      ],
      "metadata": {
        "id": "LdJfkIOBAxWJ"
      }
    },
    {
      "cell_type": "markdown",
      "source": [
        "Question 9: Did we end up with a different number of rows in Question 8 versus when we originally ran the query (Question 6)? Why or why not?"
      ],
      "metadata": {
        "id": "yxMfTjWfA5xP"
      }
    },
    {
      "cell_type": "markdown",
      "source": [
        "Answer 9:"
      ],
      "metadata": {
        "id": "j87pWw75A8Zg"
      }
    },
    {
      "cell_type": "markdown",
      "source": [
        "Question 10 (bonus): What would change if we used `MIN()` instead of `MAX()` in the above query? Explain your reasoning."
      ],
      "metadata": {
        "id": "jenj3SGqA979"
      }
    },
    {
      "cell_type": "markdown",
      "source": [
        "Answer 10:"
      ],
      "metadata": {
        "id": "85lTN7LWA_Vf"
      }
    },
    {
      "cell_type": "markdown",
      "source": [
        "## Extracting Height\n",
        "\n",
        "The following query extracts the height of our subject as documented in *chartevents*."
      ],
      "metadata": {
        "id": "mPaO9sqC3TI6"
      }
    },
    {
      "cell_type": "code",
      "source": [
        "df = run_query(f\"\"\"\n",
        "-- prep height\n",
        "WITH ht_in AS\n",
        "(\n",
        "  SELECT\n",
        "    c.subject_id, c.stay_id, c.charttime\n",
        "    -- Ensure that all heights are in centimeters\n",
        "    , ROUND(c.valuenum * 2.54, 2) AS height\n",
        "    , c.valuenum as height_orig\n",
        "  FROM physionet-data.mimiciv_icu.chartevents c\n",
        "  WHERE c.valuenum IS NOT NULL\n",
        "  -- Height (measured in inches)\n",
        "  AND c.itemid = 226707\n",
        "  AND c.subject_id = {subject_id}\n",
        ")\n",
        ", ht_cm AS\n",
        "(\n",
        "  SELECT\n",
        "    c.subject_id, c.stay_id, c.charttime\n",
        "    -- Ensure that all heights are in centimeters\n",
        "    , ROUND(c.valuenum, 2) AS height\n",
        "  FROM physionet-data.mimiciv_icu.chartevents c\n",
        "  WHERE c.valuenum IS NOT NULL\n",
        "  -- Height cm\n",
        "  AND c.itemid = 226730\n",
        "  AND c.subject_id = {subject_id}\n",
        ")\n",
        "-- merge cm/height, only take 1 value per charted row\n",
        ", ht_stg0 AS\n",
        "(\n",
        "  SELECT\n",
        "  COALESCE(h1.subject_id, h2.subject_id) as subject_id\n",
        "  , COALESCE(h1.stay_id, h2.stay_id) AS stay_id\n",
        "  , COALESCE(h1.charttime, h2.charttime) AS charttime\n",
        "  , COALESCE(h1.height, h2.height) as height\n",
        "  FROM ht_cm h1\n",
        "  LEFT JOIN ht_in h2\n",
        "    ON h1.subject_id = h2.subject_id\n",
        "    AND h1.charttime = h2.charttime\n",
        "  UNION\n",
        "  SELECT\n",
        "  COALESCE(h1.subject_id, h2.subject_id) as subject_id\n",
        "  , COALESCE(h1.stay_id, h2.stay_id) AS stay_id\n",
        "  , COALESCE(h1.charttime, h2.charttime) AS charttime\n",
        "  , COALESCE(h1.height, h2.height) as height\n",
        "  FROM ht_in h1\n",
        "  LEFT JOIN ht_cm h2\n",
        "    ON h1.subject_id = h2.subject_id\n",
        "    AND h1.charttime = h2.charttime\n",
        "  WHERE h2.subject_id IS NULL\n",
        ")\n",
        "SELECT subject_id, stay_id, charttime, height\n",
        "FROM ht_stg0\n",
        "WHERE height IS NOT NULL\n",
        "-- filter out bad heights\n",
        "AND height > 120 AND height < 230;\n",
        "\"\"\")\n",
        "display(df)"
      ],
      "metadata": {
        "id": "uR0ohHGC2g1g"
      },
      "execution_count": null,
      "outputs": []
    },
    {
      "cell_type": "markdown",
      "source": [
        "Question 11: What is the purpose of the `COALESCE` statements?"
      ],
      "metadata": {
        "id": "DIzI1kq36dOI"
      }
    },
    {
      "cell_type": "markdown",
      "source": [
        "Answer 11:"
      ],
      "metadata": {
        "id": "rmxpY1wHAdpx"
      }
    },
    {
      "cell_type": "markdown",
      "source": [
        "## Writing SQL\n",
        "\n",
        "Question 12: Write a query which lists all hospital admissions for the patient; specifically their `hadm_id`, `admittime`, and `dischtime`.\n"
      ],
      "metadata": {
        "id": "8UzNKgFw63Ps"
      }
    },
    {
      "cell_type": "code",
      "source": [
        "df = run_query(f\"\"\"\n",
        "\n",
        "\"\"\")\n",
        "display(df)"
      ],
      "metadata": {
        "id": "_1rDaJo8AXAQ"
      },
      "execution_count": null,
      "outputs": []
    },
    {
      "cell_type": "markdown",
      "source": [
        "\n",
        "Question 13: Write a query which extracts the lowest and highest heart rate for the given `subject_id`.\n"
      ],
      "metadata": {
        "id": "7Mk25fsZAXWZ"
      }
    },
    {
      "cell_type": "code",
      "source": [
        "df = run_query(f\"\"\"\n",
        "\n",
        "\"\"\")\n",
        "display(df)"
      ],
      "metadata": {
        "id": "i94lah4kAYYi"
      },
      "execution_count": null,
      "outputs": []
    },
    {
      "cell_type": "markdown",
      "source": [
        "\n",
        "Question 14:  Write a query to extract the *first* heart rate for the given `subject_id`.\n"
      ],
      "metadata": {
        "id": "6zWyIGjoAYoJ"
      }
    },
    {
      "cell_type": "code",
      "source": [
        "df = run_query(f\"\"\"\n",
        "\n",
        "\"\"\")\n",
        "display(df)"
      ],
      "metadata": {
        "id": "aOCBSHSzAZX0"
      },
      "execution_count": null,
      "outputs": []
    },
    {
      "cell_type": "markdown",
      "source": [
        "\n",
        "Question 15: Write a query which returns all the INR values for the given `subject_id`. INR is a lab value routinely measured for critically ill patients.\n"
      ],
      "metadata": {
        "id": "8kbBriH3AZo-"
      }
    },
    {
      "cell_type": "code",
      "source": [
        "df = run_query(f\"\"\"\n",
        "\n",
        "\"\"\")\n",
        "display(df)"
      ],
      "metadata": {
        "id": "0sQuGxG5AaWz"
      },
      "execution_count": null,
      "outputs": []
    },
    {
      "cell_type": "markdown",
      "source": [
        "\n",
        "Question 16: Write a query to extract all the medications prescribed to the given `subject_id`, and a count of how many times they were prescribed."
      ],
      "metadata": {
        "id": "LidlgOJkAamK"
      }
    },
    {
      "cell_type": "code",
      "source": [
        "df = run_query(f\"\"\"\n",
        "\n",
        "\"\"\")\n",
        "display(df)"
      ],
      "metadata": {
        "id": "ouWHUJQfAmoT"
      },
      "execution_count": null,
      "outputs": []
    }
  ],
  "metadata": {
    "kernelspec": {
      "display_name": "Python 2",
      "language": "python",
      "name": "python2"
    },
    "language_info": {
      "codemirror_mode": {
        "name": "ipython",
        "version": 2
      },
      "file_extension": ".py",
      "mimetype": "text/x-python",
      "name": "python",
      "nbconvert_exporter": "python",
      "pygments_lexer": "ipython2",
      "version": "2.7.12"
    },
    "colab": {
      "provenance": [],
      "include_colab_link": true
    }
  },
  "nbformat": 4,
  "nbformat_minor": 0
}
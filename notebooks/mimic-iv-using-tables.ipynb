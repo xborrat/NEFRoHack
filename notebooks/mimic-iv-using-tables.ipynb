{
  "nbformat": 4,
  "nbformat_minor": 0,
  "metadata": {
    "colab": {
      "provenance": [],
      "include_colab_link": true
    },
    "kernelspec": {
      "display_name": "Python 3",
      "language": "python",
      "name": "python3"
    },
    "language_info": {
      "codemirror_mode": {
        "name": "ipython",
        "version": 3
      },
      "file_extension": ".py",
      "mimetype": "text/x-python",
      "name": "python",
      "nbconvert_exporter": "python",
      "pygments_lexer": "ipython3",
      "version": "3.7.3"
    }
  },
  "cells": [
    {
      "cell_type": "markdown",
      "metadata": {
        "id": "view-in-github",
        "colab_type": "text"
      },
      "source": [
        "<a href=\"https://colab.research.google.com/github/xborrat/NEFRoHack/blob/main/notebooks/mimic-iv_using_tables.ipynb\" target=\"_parent\"><img src=\"https://colab.research.google.com/assets/colab-badge.svg\" alt=\"Open In Colab\"/></a>"
      ]
    },
    {
      "cell_type": "markdown",
      "metadata": {
        "id": "T3wdKZCPklNq"
      },
      "source": [
        "# MIMIC-IV\n",
        "\n",
        "MIMIC-IV is a publicly accessible clinical database containing comprehensive information for hospital stays of over 60,000 patients. In particular, the database has a large focus on critical care, where patients are heavily monitored as they receive life saving interventions.\n",
        "\n",
        "You can read more about MIMIC-IV from the following resources:\n",
        "\n",
        "* [The MIMIC-IV PhysioNet project page](https://physionet.org/content/mimiciv/)\n",
        "* [The MIMIC-IV online documentation](https://mimic-iv.mit.edu)\n",
        "\n",
        "This notebook assumes that you have access to MIMIC-IV on Google BigQuery. If you're not sure if you do, or would like to apply for access, head over to the [MIMIC-IV access page](https://mimic-iv.mit.edu/docs/access/) for instructions."
      ]
    },
    {
      "cell_type": "markdown",
      "metadata": {
        "id": "rG3HrM7GkwCH"
      },
      "source": [
        "## Load libraries and setup environment"
      ]
    },
    {
      "cell_type": "code",
      "metadata": {
        "id": "s-MoFA6NkkbZ"
      },
      "source": [
        "# Import libraries\n",
        "from datetime import timedelta\n",
        "import os\n",
        "\n",
        "import numpy as np\n",
        "import pandas as pd\n",
        "import re\n",
        "import matplotlib.pyplot as plt\n",
        "import matplotlib.dates as mdates\n",
        "\n",
        "# Make pandas dataframes prettier\n",
        "from IPython.display import display, HTML, Image\n",
        "%matplotlib inline\n",
        "\n",
        "plt.style.use('ggplot')\n",
        "plt.rcParams.update({'font.size': 20})\n",
        "\n",
        "# Access data using Google BigQuery.\n",
        "from google.colab import auth\n",
        "from google.cloud import bigquery"
      ],
      "execution_count": null,
      "outputs": []
    },
    {
      "cell_type": "markdown",
      "metadata": {
        "id": "hStHVuqV4qfn"
      },
      "source": [
        "We need to authenticate this notebook with Google Cloud Platform (GCP) in order to query MIMIC-IV. When prompted to login, **make sure you use the Google account granted access to MIMIC-IV via PhysioNet**. [Details on granting your Google account access are described in the online documentation](https://mimic-iv.mit.edu/docs/access/cloud/)."
      ]
    },
    {
      "cell_type": "code",
      "metadata": {
        "id": "jyBV_Q9DkyD3"
      },
      "source": [
        "# authenticate\n",
        "auth.authenticate_user()"
      ],
      "execution_count": null,
      "outputs": []
    },
    {
      "cell_type": "markdown",
      "metadata": {
        "id": "0tBPRtg-5GXL"
      },
      "source": [
        "Next up, our final piece of configuration. In order to query the data, we need to set the project ID. This project ID is used to bill usage incurred by the querying. Don't worry: the queries we run are extremely lightweight, and usually cost pennies (if that).\n",
        "\n",
        "If you're not sure what your project ID is, or if you haven't made a project on GCP, [you can read about creating and managing google projects here](https://cloud.google.com/resource-manager/docs/creating-managing-projects). Afterwards, change the `project_id` variable below to your Google project."
      ]
    },
    {
      "cell_type": "code",
      "metadata": {
        "id": "cF1udJKhkzYq"
      },
      "source": [
        "# Set up environment variables\n",
        "project_id = 'lcp-internal'\n",
        "if project_id == 'CHANGE-ME':\n",
        "  raise ValueError('You must change project_id to your GCP project.')\n",
        "os.environ[\"GOOGLE_CLOUD_PROJECT\"] = project_id\n",
        "\n",
        "# Read data from BigQuery into pandas dataframes.\n",
        "def run_query(query, project_id=project_id):\n",
        "  return pd.io.gbq.read_gbq(\n",
        "      query,\n",
        "      project_id=project_id,\n",
        "      dialect='standard')\n",
        "\n",
        "# set the dataset\n",
        "# if you want to use the demo, change this to mimic_demo\n",
        "dataset = 'mimic'\n",
        "\n",
        "# test it works\n",
        "df = run_query(\"\"\"\n",
        "SELECT subject_id\n",
        "FROM `physionet-data.mimic_core.patients`\n",
        "WHERE subject_id = 10012853\n",
        "\"\"\")\n",
        "assert df.shape[0] == 1, 'unable to query MIMIC-IV!'"
      ],
      "execution_count": null,
      "outputs": []
    },
    {
      "cell_type": "markdown",
      "metadata": {
        "id": "j-2J26-Uj54o"
      },
      "source": [
        "If the above raises an error, you'll need to double check you've set your project correctly, and ensure that you have [requested access to MIMIC-IV on Google BigQuery via the PhysioNet project page](https://mimic-iv.mit.edu/docs/access/cloud/#accessing-mimic-iv-on-the-cloud).\n",
        "\n",
        "We're going to go through the data in MIMIC-IV with an example patient. We'll select data for this patient using only their `subject_id`. After you've run through the notebook, you are welcome to change the `subject_id` to see the data for a different patient. This can be a useful exercise as not all patients have data recorded in every table! If this is your first time going through this notebook however, we recommend you keep the `subject_id` as is so the associated text blocks make sense."
      ]
    },
    {
      "cell_type": "code",
      "metadata": {
        "id": "-JF7qFSVj5Vm"
      },
      "source": [
        "subject_id = 10012853"
      ],
      "execution_count": null,
      "outputs": []
    },
    {
      "cell_type": "markdown",
      "metadata": {
        "id": "orIxAe0bsq2L"
      },
      "source": [
        "# Patients table"
      ]
    },
    {
      "cell_type": "code",
      "metadata": {
        "id": "eIWV3-5PiHUm"
      },
      "source": [
        "query = f\"\"\"\n",
        "SELECT *\n",
        "FROM `physionet-data.{dataset}_core.patients`\n",
        "WHERE subject_id = {subject_id}\n",
        "\"\"\"\n",
        "pt = run_query(query)\n",
        "pt['anchor_year'] = pt['anchor_year']\n",
        "pt"
      ],
      "execution_count": null,
      "outputs": []
    },
    {
      "cell_type": "markdown",
      "metadata": {
        "id": "wlxWRhG_iLPB"
      },
      "source": [
        "\n",
        "Here we have information for an individual person. We have their genotypical sex in the `gender` column, which is 'F' for female. Their `anchor_age` is 91, and the corresponding `anchor_year` for this age is 2175. This `anchor_year` occurred sometime between 2014 - 2016. This is our temporal anchoring of the deidentified patient stay. We know that a measurement in the database which is recorded at the deidentified date of 2175-01-01 actually occurred sometime between 2014 and 2016.\n",
        "\n",
        "This patient's particular age brings up an important deidentification step. HIPAA requires all ages over 89 to be obscured in order to protect patient identity, and leaves the method of obfuscation up to the individual data guardians. In MIMIC-IV, we have decided to set all ages over 89 to the value of 91, which is pretty close to the median age for that group. If you see a patient with an `anchor_age` of 91, then the only thing you know is that they were over 89 in the `anchor_year`. For this patient, we know they were older than 89 sometime between 2014 - 2016, which corresponds to 2175 in their deidentified time series. We've chosen 91 as it is a reasonable imputation for this age group. You can see the impact of this decision in a histogram of all ages."
      ]
    },
    {
      "cell_type": "code",
      "metadata": {
        "id": "qMcPmDj0igCo"
      },
      "source": [
        "# Load admissions\n",
        "query = f\"\"\"\n",
        "SELECT anchor_age, count(*) as n\n",
        "FROM `physionet-data.{dataset}_core.patients` pt\n",
        "group by anchor_age\n",
        "\"\"\"\n",
        "age = run_query(query)\n",
        "plt.figure(figsize=[12, 8])\n",
        "plt.bar(age['anchor_age'], age['n'])\n",
        "plt.xticks([x for x in range(0, 90, 10)] + [91])\n",
        "plt.ylabel('Number of patients')\n",
        "plt.xlabel('Age (years)')\n",
        "plt.show()"
      ],
      "execution_count": null,
      "outputs": []
    },
    {
      "cell_type": "markdown",
      "metadata": {
        "id": "ulHhGecmife5"
      },
      "source": [
        "Now you understand why there is such a huge jump from the number of 88 year olds to the number of \"91\" year olds! In fact, all patients >= 89 have their age set to 91.\n",
        "\n",
        "N.B. If using the demo data, this jump isn't *that* obvious - but it is in the full dataset."
      ]
    },
    {
      "cell_type": "markdown",
      "metadata": {
        "id": "GXuviWLBjuXf"
      },
      "source": [
        "## Admissions\n",
        "\n",
        "Next up, we can look at the hospitalizations for this patient."
      ]
    },
    {
      "cell_type": "code",
      "metadata": {
        "id": "Rm0GtwbgslM4"
      },
      "source": [
        "query = f\"\"\"\n",
        "SELECT *\n",
        "FROM `physionet-data.{dataset}_core.admissions`\n",
        "WHERE subject_id = {subject_id}\n",
        "ORDER BY admittime\n",
        "\"\"\"\n",
        "adm = run_query(query)\n",
        "adm"
      ],
      "execution_count": null,
      "outputs": []
    },
    {
      "cell_type": "markdown",
      "metadata": {
        "id": "F8vPNCMLk3it"
      },
      "source": [
        "Here we see this patient has 6 admissions over a period of 4 years. Their initial admission occurs at their earliest `admittime`: 2175-04-05 15:36:00. Recall from the *patients* table that 2175 was their `anchor_year`; therefore we know that this admission occurred sometime between 2014 - 2016. Their final admission is in 2177, and by extension we know this admission must have occurred sometime between 2016 - 2018.\n",
        "\n",
        "Going back to the first admission, we can see it lasted for about 5 days, and the patient was admitted to the hospital via the emergency room. We can get a sense of how often this happens by looking at adult patients who are admitted to the hospital."
      ]
    },
    {
      "cell_type": "code",
      "metadata": {
        "id": "F54Q-t-zk3D4"
      },
      "source": [
        "# Load admissions\n",
        "query = f\"\"\"\n",
        "SELECT admission_location, count(*) as n\n",
        "FROM `physionet-data.{dataset}_core.admissions` a\n",
        "WHERE admission_location IS NOT NULL\n",
        "GROUP BY 1\n",
        "ORDER BY 2\n",
        "\"\"\"\n",
        "df = run_query(query)\n",
        "df['%'] = df['n'] / df['n'].sum() * 100.0\n",
        "\n",
        "plt.figure(figsize=[8, 16])\n",
        "plt.barh(df['admission_location'], df['n'])\n",
        "plt.xlabel('Number of hospitalizations')\n",
        "plt.xticks(rotation=45)\n",
        "plt.show()\n",
        "\n",
        "df"
      ],
      "execution_count": null,
      "outputs": []
    },
    {
      "cell_type": "markdown",
      "metadata": {
        "id": "C6vmQbn_m8Zv"
      },
      "source": [
        "We can see around almost half of patients in MIMIC-IV are admitted via the emergency room. Let's go back to our patient."
      ]
    },
    {
      "cell_type": "code",
      "metadata": {
        "id": "kRcg5QiUndjp"
      },
      "source": [
        "plt.figure(figsize=[12, 8])\n",
        "for i, row in adm.iterrows():\n",
        "  plt.plot([row['admittime'], row['dischtime']], [i, i], 'o-')\n",
        "plt.ylabel('Admission number')\n",
        "plt.xlabel('Date')\n",
        "plt.xticks(rotation=45)\n",
        "plt.show()\n",
        "adm"
      ],
      "execution_count": null,
      "outputs": []
    },
    {
      "cell_type": "markdown",
      "metadata": {
        "id": "Qd-dcd6Pngo2"
      },
      "source": [
        "The admission table also tells us about their demographics, has the time at which they were registered and discharged from the ED, and whether the patient died in the hospital. If we select their earliest hospitalization, we can use the *transfers* table to track their in-hospital movement, i.e. which wards they stayed in during their hospital stay."
      ]
    },
    {
      "cell_type": "code",
      "metadata": {
        "id": "Ff2sz44EngAV"
      },
      "source": [
        "# Load admissions\n",
        "query = f\"\"\"\n",
        "SELECT *\n",
        "FROM `physionet-data.{dataset}_core.transfers` tr\n",
        "WHERE hadm_id IN\n",
        "(\n",
        "  SELECT hadm_id\n",
        "  FROM `physionet-data.{dataset}_core.admissions`\n",
        "  WHERE subject_id = {subject_id}\n",
        "  ORDER BY admittime\n",
        "  LIMIT 1\n",
        ")\n",
        "ORDER BY intime\n",
        "\"\"\"\n",
        "tr = run_query(query)\n",
        "tr"
      ],
      "execution_count": null,
      "outputs": []
    },
    {
      "cell_type": "markdown",
      "metadata": {
        "id": "S5eFIwzvo3Pe"
      },
      "source": [
        "The patient was admitted to the emergency department (ED) and spent just under 10 hours in the ED. She then spent five days in a medicine ward until being discharged from the hospital. From the admissions table above, we know that she was discharged home from the hospital (`discharge_location` of 'HOME').\n",
        "\n",
        "As a large amount of data in MIMIC-IV is focused on a patient's ICU stay, it behooves us to select a hospitalization which involved an ICU stay. To figure out what stays are ICU stays, let's group *transfers* by the careunit."
      ]
    },
    {
      "cell_type": "code",
      "metadata": {
        "id": "gLI1_68kpsO6"
      },
      "source": [
        "# Load admissions\n",
        "query = f\"\"\"\n",
        "SELECT careunit, count(*) AS n\n",
        "FROM `physionet-data.{dataset}_core.transfers` tr\n",
        "WHERE careunit IS NOT NULL\n",
        "GROUP BY 1\n",
        "ORDER BY 2\n",
        "\"\"\"\n",
        "df = run_query(query)\n",
        "\n",
        "plt.figure(figsize=[8, 16])\n",
        "plt.barh(df['careunit'], df['n'])\n",
        "plt.xlabel('Number of stays')\n",
        "plt.xticks(rotation=45)\n",
        "plt.show()"
      ],
      "execution_count": null,
      "outputs": []
    },
    {
      "cell_type": "markdown",
      "metadata": {
        "id": "pBbKbJ6YqZ6w"
      },
      "source": [
        "Above we can see that by far the majority of stays are in the emergency room. This is because the emergency room in the hospital is better thought of as a clinic: many patients have many brief stays.\n",
        "\n",
        "So, now that we know all the care units, we can simply subselect our patient's hospitalizations to those which contain an ICU stay. Note that patients in MIMIC-IV are *not* guaranteed to have an ICU stay, but we've picked this patient as we know they do have one."
      ]
    },
    {
      "cell_type": "code",
      "metadata": {
        "id": "fLOhEgufrO5G"
      },
      "source": [
        "# Load admissions\n",
        "query = f\"\"\"\n",
        "SELECT *\n",
        "FROM `physionet-data.{dataset}_core.transfers` tr\n",
        "WHERE hadm_id IN\n",
        "(\n",
        "  SELECT hadm_id\n",
        "  FROM `physionet-data.{dataset}_core.transfers`\n",
        "  WHERE subject_id = {subject_id}\n",
        "  AND careunit IN\n",
        "  (\n",
        "    'Neuro Surgical Intensive Care Unit (Neuro SICU)',\n",
        "    'Coronary Care Unit (CCU)',\n",
        "    'Trauma SICU (TSICU)',\n",
        "    'Surgical Intensive Care Unit (SICU)',\n",
        "    'Cardiac Vascular Intensive Care Unit (CVICU)',\n",
        "    'Medical/Surgical Intensive Care Unit (MICU/SICU)',\n",
        "    'Medical Intensive Care Unit (MICU)'\n",
        "    -- exclude NICU - adult patients do not have stays in the NICU\n",
        "    -- 'Neonatal Intensive Care Unit (NICU)'\n",
        "  )\n",
        ")\n",
        "ORDER BY intime\n",
        "\"\"\"\n",
        "tr = run_query(query)\n",
        "\n",
        "# retain hadm_id for later use in queries\n",
        "hadm_id = tr['hadm_id'].values[0]\n",
        "\n",
        "# plot the patient stays\n",
        "plt.figure(figsize=[12, 8])\n",
        "for i, row in tr.iterrows():\n",
        "  if pd.isnull(row['outtime']):\n",
        "    continue\n",
        "  plt.plot([row['intime'], row['outtime']], [i, i], 'o-', label=row['careunit'])\n",
        "plt.ylabel('Ward stay')\n",
        "plt.xlabel('Date')\n",
        "plt.xticks(rotation=45)\n",
        "plt.legend(loc='lower right')\n",
        "plt.show()\n",
        "\n",
        "tr"
      ],
      "execution_count": null,
      "outputs": []
    },
    {
      "cell_type": "markdown",
      "metadata": {
        "id": "8v9WZIjeroL0"
      },
      "source": [
        "As it turns out, this patient has only one hospitalization which contains an ICU stay. The *transfers* table provides us with the patient's full hospital course: they were admitted via the emergency department to a medicine ward in the hospital. As the deidentification approach retains the time of day, we know the patient was transfered at 2:34 AM from the medicine ward to the trauma/surgical intensive care unit (TSICU). The patient spent approximately three days in the TSICU. Note that there are two rows associated with the same care unit (TSICU). This is not an error, and this phenomenon can occur when a patient moves from one physical location to another which have the same designation. In this case, it is likely that the patient moved beds within the same physical location, though it is also possible that the TSICU care unit physically corresponds to more than one room, and the patient was moved between the two rooms. After their stay in the ICU, the patient was transferred to a vascular ward in the hospital. After four days in the vascular ward, the patient is discharged from the hospital. As before, we can investigate their hospital level information in the admissions table."
      ]
    },
    {
      "cell_type": "code",
      "metadata": {
        "id": "Qyjp8Ubysfsp"
      },
      "source": [
        "# Load admissions\n",
        "query = f\"\"\"\n",
        "SELECT *\n",
        "FROM `physionet-data.{dataset}_core.admissions`\n",
        "WHERE hadm_id = {hadm_id}\n",
        "\"\"\"\n",
        "adm = run_query(query)\n",
        "adm.T"
      ],
      "execution_count": null,
      "outputs": []
    },
    {
      "cell_type": "markdown",
      "metadata": {
        "id": "zp98SLmDsrQR"
      },
      "source": [
        "Above, we can see that the patient was an emergency admission admitted via the emergency room (or emergency department, the terms are usable interchangeably). In this case, the patient is discharged to a skilled nursing facility.\n",
        "\n",
        "Hopefully you now understand how the *core* dataset can be used to identify and understand patient movement within the hospital. We'll retain this patient's identifiers (`subject_id` and `hadm_id`), and move on to highlighting the information available for the patient in the *hosp*, *icu*, and *cxr* datasets."
      ]
    },
    {
      "cell_type": "markdown",
      "metadata": {
        "id": "RbGH6H3P77JG"
      },
      "source": [
        "## *ed*\n",
        "\n",
        "Since the patient was admitted through the emergency department, we very likely have their data from the ED! (Very likely because MIMIC-ED and MIMIC-IV do not overlap completely).\n",
        "\n",
        "Let's check!"
      ]
    },
    {
      "cell_type": "code",
      "metadata": {
        "id": "a9Av_PzW8D-A"
      },
      "source": [
        "query = f\"\"\"\n",
        "SELECT * FROM `physionet-data.{dataset}_ed.edstays`\n",
        "where subject_id = {subject_id}\n",
        "ORDER BY intime\n",
        "\"\"\"\n",
        "edstays = run_query(query)\n",
        "edstays"
      ],
      "execution_count": null,
      "outputs": []
    },
    {
      "cell_type": "markdown",
      "metadata": {
        "id": "cfzdGgylukq9"
      },
      "source": [
        "We do indeed have quite a few ED stays for this patient. We can subselect to the ED stay associated with the hospitalization we chose earlier by filtering on the `hadm_id`."
      ]
    },
    {
      "cell_type": "code",
      "metadata": {
        "id": "BXpxN_v98ZUW"
      },
      "source": [
        "query = f\"\"\"\n",
        "SELECT * FROM `physionet-data.{dataset}_ed.edstays`\n",
        "where hadm_id = {hadm_id}\n",
        "ORDER BY intime\n",
        "\"\"\"\n",
        "edstays = run_query(query)\n",
        "\n",
        "ed_stay_id = edstays['stay_id'].values[0]\n",
        "\n",
        "edstays"
      ],
      "execution_count": null,
      "outputs": []
    },
    {
      "cell_type": "code",
      "metadata": {
        "id": "VyDTzmgs853O"
      },
      "source": [
        "query = f\"\"\"\n",
        "SELECT * FROM `physionet-data.{dataset}_ed.triage`\n",
        "where stay_id = {ed_stay_id}\n",
        "\"\"\"\n",
        "triage = run_query(query)\n",
        "display(triage)"
      ],
      "execution_count": null,
      "outputs": []
    },
    {
      "cell_type": "markdown",
      "metadata": {
        "id": "kyhzUExYwLbB"
      },
      "source": [
        "Above we can see that this patient had a chief complaint of a deep vein thrombosis (DVT) and was a transfer patient via the ED. Her vital signs are also shown; note the high systolic blood pressure!"
      ]
    },
    {
      "cell_type": "code",
      "metadata": {
        "id": "L8uqrCwP9Mgq"
      },
      "source": [
        "query = f\"\"\"\n",
        "SELECT * FROM `physionet-data.{dataset}_ed.vitalsign`\n",
        "where stay_id = {ed_stay_id}\n",
        "order by charttime\n",
        "\"\"\"\n",
        "vs = run_query(query)\n",
        "display(vs)"
      ],
      "execution_count": null,
      "outputs": []
    },
    {
      "cell_type": "markdown",
      "metadata": {
        "id": "xKP_hs5OwXrH"
      },
      "source": [
        "The *vitalsign* table contains vital signs noted by nursing staff while the patient was in the ED. Usually you'll see a set of vital signs every 1-4 hours, but in this case it seems the patient was being monitored a bit more frequently; possible because she appeared unwell. Note the reasonably low oxygen saturation (`o2sat`) of 93%. You'll also see most of the columns in this table mirror those of triage."
      ]
    },
    {
      "cell_type": "code",
      "metadata": {
        "id": "tlnsS6bL-YX6"
      },
      "source": [
        "query = f\"\"\"\n",
        "SELECT * FROM `physionet-data.{dataset}_ed.medrecon`\n",
        "where stay_id = {ed_stay_id}\n",
        "\"\"\"\n",
        "medrecon = run_query(query)\n",
        "display(medrecon)"
      ],
      "execution_count": null,
      "outputs": []
    },
    {
      "cell_type": "markdown",
      "metadata": {
        "id": "R0zXM11Nw4rW"
      },
      "source": [
        "Above we can see the medicine reconciliation table, or *medrecon*. This is a list of medications which the patient is taking at home. In this case, the patient is on 11 medications, ranging from aspirin to methimazole. Note also that the `etccode` and `etcdescription` columns provide a useful classification of the type of medication. There may be more than one `etccode` for a single medication, and the `etc_rn` column helps us differentiate between those medications."
      ]
    },
    {
      "cell_type": "code",
      "metadata": {
        "id": "ztt8WDnA-sic"
      },
      "source": [
        "query = f\"\"\"\n",
        "SELECT * FROM `physionet-data.{dataset}_ed.diagnosis`\n",
        "where stay_id = {ed_stay_id}\n",
        "\"\"\"\n",
        "eddx = run_query(query)\n",
        "display(eddx)"
      ],
      "execution_count": null,
      "outputs": []
    },
    {
      "cell_type": "markdown",
      "metadata": {
        "id": "XX8NKV_SxQlr"
      },
      "source": [
        "Finally the *diagnosis* table provides us with the diagnoses which the patient was billed for **after leaving the ED**."
      ]
    },
    {
      "cell_type": "markdown",
      "metadata": {
        "id": "Qstm5MdKp4S5"
      },
      "source": [
        "## *hosp*"
      ]
    },
    {
      "cell_type": "markdown",
      "metadata": {
        "id": "H6YNbI3rwUCM"
      },
      "source": [
        "The *hosp* dataset contains information sourced from the hospital electronic health record (EHR) system. There are many tables in this dataset, but we can group the data contained as follows:\n",
        "\n",
        "* Service data: the hospital service the patient was under during their hospital stay, e.g. medicine, surgery, etc.\n",
        "  * *services*\n",
        "* Order data: orders made for the patient including treatments, code status, and so on\n",
        "  * *poe*, *poe_detail*\n",
        "* Microbiology studies: blood cultures, antibiotic sensitivities, and other similar tests\n",
        "  * *d_micro*, *microbiologyevents*\n",
        "* Laboratory data: information measured on a specimen derived from the patient, e.g. the electrolytes in a sample of patient blood\n",
        "  * *d_labitems*, *labevents*\n",
        "* Medication data: information about the prescription and administration of drugs/compounds to the patient\n",
        "  * *prescriptions*, *pharmacy*, *emar*, *emar_detail*\n",
        "* Billing data: trained personelle assign coded terms to a patient's hospitalization to facilitate the billing process\n",
        "  * *d_hcpcs*, *hcpcsevents*, *d_icd_diagnoses*, *diagnoses_icd*, *d_icd_procedures*, *procedures_icd*, *drgcodes*\n",
        "\n",
        "We'll now go through these tables and subselect to our example patient."
      ]
    },
    {
      "cell_type": "markdown",
      "metadata": {
        "id": "Qjw-NWM8zUMJ"
      },
      "source": [
        "### *services*"
      ]
    },
    {
      "cell_type": "code",
      "metadata": {
        "id": "qUQ43qnUyeye"
      },
      "source": [
        "# services\n",
        "query = f\"\"\"\n",
        "WITH t1 AS\n",
        "(\n",
        "SELECT hadm_id, count(*) as n\n",
        "FROM `physionet-data.{dataset}_hosp.services`\n",
        "GROUP BY 1\n",
        ")\n",
        "SELECT n AS n_service\n",
        ", count(*) AS n\n",
        "FROM t1\n",
        "GROUP BY 1\n",
        "ORDER BY 1\n",
        "\"\"\"\n",
        "df = run_query(query)\n",
        "df['%'] = df['n'] / df['n'].sum() * 100.0\n",
        "display(df.head())\n",
        "\n",
        "query = f\"\"\"\n",
        "SELECT *\n",
        "FROM `physionet-data.{dataset}_hosp.services`\n",
        "WHERE hadm_id = {hadm_id}\n",
        "\"\"\"\n",
        "serv = run_query(query)\n",
        "serv.T"
      ],
      "execution_count": null,
      "outputs": []
    },
    {
      "cell_type": "markdown",
      "metadata": {
        "id": "uJY4RQ46ykyX"
      },
      "source": [
        "The *services* table is fairly straightforward. Around 94% of patients are assigned a single service for their entire hospital stay. In this case, the patient has the \"MED\" service, which is short for medical."
      ]
    },
    {
      "cell_type": "code",
      "metadata": {
        "id": "8zMO9Qlz5IGK"
      },
      "source": [
        "query = f\"\"\"\n",
        "SELECT curr_service AS service, count(*) as n\n",
        "FROM `physionet-data.{dataset}_hosp.services`\n",
        "GROUP BY 1\n",
        "ORDER BY 2\n",
        "\"\"\"\n",
        "df = run_query(query)\n",
        "\n",
        "plt.figure(figsize=[8, 16])\n",
        "plt.barh(df['service'], df['n'])\n",
        "plt.xlabel('Number of stays')\n",
        "plt.xticks(rotation=45)\n",
        "plt.show()"
      ],
      "execution_count": null,
      "outputs": []
    },
    {
      "cell_type": "markdown",
      "metadata": {
        "id": "dmx-hIrzzWGS"
      },
      "source": [
        "### *poe*, *poe_detail*\n",
        "\n",
        "There is a soft convention in MIMIC-IV tables that a \"_detail\" table provides more information for an identifier in its corresponding primary table. In this case, the *poe* table provides information about provider orders, and the *poe_detail* table provides further information about the orders in the *poe* table. An example will hopefully elucidate this further."
      ]
    },
    {
      "cell_type": "code",
      "metadata": {
        "id": "pTERi0uR0g9b"
      },
      "source": [
        "query = f\"\"\"\n",
        "SELECT *\n",
        "FROM `physionet-data.{dataset}_hosp.poe`\n",
        "WHERE hadm_id = {hadm_id}\n",
        "ORDER BY poe_seq\n",
        "\"\"\"\n",
        "poe = run_query(query)\n",
        "poe[['subject_id', 'poe_id', 'poe_seq', 'ordertime', 'order_type', 'order_subtype']]"
      ],
      "execution_count": null,
      "outputs": []
    },
    {
      "cell_type": "markdown",
      "metadata": {
        "id": "4W0fLMMD0493"
      },
      "source": [
        "The patient has 198 orders over their stay. The `order_type` and `order_subtype` give us an idea of what type of orders are made."
      ]
    },
    {
      "cell_type": "code",
      "metadata": {
        "id": "1jjMPdWO1DbK"
      },
      "source": [
        "poe.groupby(['order_type', 'order_subtype'])[['poe_id']].count()"
      ],
      "execution_count": null,
      "outputs": []
    },
    {
      "cell_type": "markdown",
      "metadata": {
        "id": "8DPbuxGK1L9q"
      },
      "source": [
        "We can see:\n",
        "\n",
        "1. There are a number of orders for the management of the patients movement in the hospital (commonly abbreviated ADT for admission/discharge/transfer)\n",
        "2. The patient has had physical therapy consults\n",
        "3. Various imaging studies have been ordered including CT scans and x-rays\n",
        "4. The patient was on non-invasive ventilation (BiPAP order)\n"
      ]
    },
    {
      "cell_type": "code",
      "metadata": {
        "id": "5WgTHTlD7T4S"
      },
      "source": [
        "query = f\"\"\"\n",
        "SELECT p.*, pd.field_name, pd.field_value\n",
        "FROM `physionet-data.{dataset}_hosp.poe` p\n",
        "INNER JOIN `physionet-data.{dataset}_hosp.poe_detail` pd\n",
        "  ON p.poe_id = pd.poe_id\n",
        "WHERE hadm_id = {hadm_id}\n",
        "ORDER BY poe_seq\n",
        "\"\"\"\n",
        "poedet = run_query(query)\n",
        "poedet[['subject_id', 'poe_id', 'ordertime', 'order_type', 'order_subtype', 'field_name', 'field_value']]"
      ],
      "execution_count": null,
      "outputs": []
    },
    {
      "cell_type": "markdown",
      "metadata": {
        "id": "aVi1K6oyzcTV"
      },
      "source": [
        "### *d_micro*, *microbiologyevents*\n",
        "\n",
        "Another commonly found convention in MIMIC-IV is the use of an \"events\" table with a \"d_\" table. This is a type of database normalization, where information is encoded as an integer and stored elsewhere."
      ]
    },
    {
      "cell_type": "code",
      "metadata": {
        "id": "LNccxXjx168N"
      },
      "source": [
        "query = f\"\"\"\n",
        "SELECT *\n",
        "FROM `physionet-data.{dataset}_hosp.microbiologyevents`\n",
        "WHERE hadm_id = {hadm_id}\n",
        "\"\"\"\n",
        "micro = run_query(query)\n",
        "micro"
      ],
      "execution_count": null,
      "outputs": []
    },
    {
      "cell_type": "markdown",
      "metadata": {
        "id": "hLZhoxW82LvZ"
      },
      "source": [
        "As it turns out, this patient did not have any microbiology information during this hospitalization. This is to be expected - not all patients receive every test! We can look across the patient's entire record, rather than just within this hospitalization."
      ]
    },
    {
      "cell_type": "code",
      "metadata": {
        "id": "Usbnwt1S2Wkr"
      },
      "source": [
        "query = f\"\"\"\n",
        "SELECT *\n",
        "FROM `physionet-data.{dataset}_hosp.microbiologyevents`\n",
        "WHERE subject_id = {subject_id}\n",
        "ORDER BY chartdate, charttime\n",
        "\"\"\"\n",
        "micro = run_query(query)\n",
        "micro"
      ],
      "execution_count": null,
      "outputs": []
    },
    {
      "cell_type": "markdown",
      "metadata": {
        "id": "CjGj2a252dS9"
      },
      "source": [
        "The patient has 65 records in *microbiologyevents* table. Recall that the patient's admission for the hospital stay we are examining occurred on 2176-11-25 21:28:00. We can see that about two months prior to the admission (2176-10-10), the patient had a urine culture (`test_name`), which tested positive for multiple organisms (`org_itemid` is non-null). This raises an important point about the microbiology table and data in the *hosp* dataset in general: while the information is sourced from the hospital, **the dataset also contains data collected outside of the hospital**. This is particularly useful when you'd like to search for baseline data prior to their hospitalization.\n",
        "\n",
        "To better understand the micro data, let's subselect to urine culture specimen."
      ]
    },
    {
      "cell_type": "code",
      "metadata": {
        "id": "LVgoHDgB3n7o"
      },
      "source": [
        "micro.loc[micro['micro_specimen_id'] == 8328091].T"
      ],
      "execution_count": null,
      "outputs": []
    },
    {
      "cell_type": "markdown",
      "metadata": {
        "id": "odFlf6El3u5n"
      },
      "source": [
        "Above we can see we actually have many rows for a single `micro_specimen_id`. This is expected, and there are a few different ways which data can present itself in this table. Recall that the intention of a microbiology test is to determine if an organism is present in a sample. In this case, the same is urine. The possibilities are:\n",
        "\n",
        "* If no growth is found, the `org_itemid` and subsequent columns will be NULL, and there will only be a single row for the `micro_specimen_id`\n",
        "* If an organism is found, then each organism will be present as a single row. Each unique organism is assigned a unique `org_itemid`, and *d_micro* provides the interpretable name for these organisms.\n",
        "* If antibiotics are tested on a given organism, then additional rows will be present for combination of antibiotic and organism (i.e. a single antibiotic denoted by `ab_itemid` may be tested on the one or more organisms which grew). Antibiotic parameters and sensitivities are present in the remaining columns (`dilution_text`, `dilution_comparison`, `dilution_value`, `interpretation`).\n",
        "\n",
        "Back to our patient, we can re-run a query joining to *d_micro* to get the interpretable names of the organisms and antibiotics associated with the specimen."
      ]
    },
    {
      "cell_type": "code",
      "metadata": {
        "id": "KlsWDZCH6gyy"
      },
      "source": [
        "micro_specimen_id = 8328091\n",
        "\n",
        "query = f\"\"\"\n",
        "SELECT\n",
        "me.subject_id, me.hadm_id\n",
        ", me.micro_specimen_id\n",
        ", me.charttime, me.storetime\n",
        ", me.test_seq\n",
        ", me.test_name\n",
        ", me.test_itemid\n",
        ", test.label as test_label\n",
        ", me.org_itemid\n",
        ", org.label as org_label\n",
        ", me.isolate_num, me.quantity\n",
        ", me.ab_itemid\n",
        ", ab.label as ab_label\n",
        ", me.dilution_text, me.dilution_comparison\n",
        ", me.dilution_value, me.interpretation\n",
        "FROM `physionet-data.{dataset}_hosp.microbiologyevents` me\n",
        "INNER JOIN `physionet-data.{dataset}_hosp.d_micro` test\n",
        "  ON me.test_itemid = test.itemid\n",
        "INNER JOIN `physionet-data.{dataset}_hosp.d_micro` org\n",
        "  ON me.org_itemid = org.itemid\n",
        "INNER JOIN `physionet-data.{dataset}_hosp.d_micro` ab\n",
        "  ON me.ab_itemid = ab.itemid\n",
        "WHERE micro_specimen_id = {micro_specimen_id}\n",
        "ORDER BY charttime, org_itemid, ab_itemid\n",
        "\"\"\"\n",
        "micro = run_query(query)\n",
        "\n",
        "# only display a subset of columns for conciseness\n",
        "print('Columns in table: {}'.format(', '.join(micro.columns)))\n",
        "cols = ['subject_id', 'charttime', 'storetime', 'test_name', 'org_label', 'ab_label',\n",
        "        'dilution_text', 'interpretation']\n",
        "micro[cols]"
      ],
      "execution_count": null,
      "outputs": []
    },
    {
      "cell_type": "markdown",
      "metadata": {
        "id": "8_qZiXTn74Ko"
      },
      "source": [
        "Above, we can see there are two organisms found in the urine culture: morganella morganii and providencia stuartii. Both organisms have been tested for sensitivity against a number of antibiotics (nitrofurantoin, gentamicin, tobramycin, ciprofloxacin). Both organisms are resistant ('R') to nitrofurantoin (note the distinct dilutions used!), but susceptible to all other antibiotics ('S')."
      ]
    },
    {
      "cell_type": "markdown",
      "metadata": {
        "id": "_9w36rEqzfHJ"
      },
      "source": [
        "### *d_labitems*, *labevents*"
      ]
    },
    {
      "cell_type": "code",
      "metadata": {
        "id": "wEH2iii19PdV"
      },
      "source": [
        "query = f\"\"\"\n",
        "SELECT *\n",
        "FROM `physionet-data.{dataset}_hosp.labevents`\n",
        "WHERE hadm_id = {hadm_id}\n",
        "ORDER BY charttime\n",
        "\"\"\"\n",
        "lab = run_query(query)\n",
        "lab"
      ],
      "execution_count": null,
      "outputs": []
    },
    {
      "cell_type": "markdown",
      "metadata": {
        "id": "BInskXqc9jkn"
      },
      "source": [
        "Laboratory data contains measurements made from human derived specimens (urine samples, blood samples, sputum samples, etc). When a sample is drawn, it is assigned a unique `specimen_id`. Measurements made from this sample will be associated with the same `specimen_id`. For example, a measurement of sodium and potassium made on the same blood sample will appear as two rows with the same `specimen_id`.\n",
        "\n",
        "In order to understand the measurements made, it's useful to join the *labevents* table to the *d_labitems* table, which has descriptive information for each type of lab measurement."
      ]
    },
    {
      "cell_type": "code",
      "metadata": {
        "id": "D29F0Ibs-K6X"
      },
      "source": [
        "query = f\"\"\"\n",
        "SELECT le.hadm_id\n",
        ", le.specimen_id\n",
        ", le.charttime\n",
        ", le.storetime\n",
        ", le.itemid\n",
        ", dl.fluid\n",
        ", dl.category\n",
        ", dl.label\n",
        ", le.value\n",
        ", le.valuenum\n",
        ", le.valueuom\n",
        ", le.ref_range_lower, le.ref_range_upper\n",
        ", le.flag, le.priority\n",
        ", le.comments\n",
        "FROM `physionet-data.{dataset}_hosp.labevents` le\n",
        "INNER JOIN `physionet-data.{dataset}_hosp.d_labitems` dl\n",
        "  ON le.itemid = dl.itemid\n",
        "WHERE hadm_id = {hadm_id}\n",
        "ORDER BY charttime, label\n",
        "\"\"\"\n",
        "lab = run_query(query)\n",
        "lab"
      ],
      "execution_count": null,
      "outputs": []
    },
    {
      "cell_type": "markdown",
      "metadata": {
        "id": "JTG5ZfEd-o4x"
      },
      "source": [
        "We can now see the added information from *d_labitems*: each lab measurement (`itemid`) is associated with a fluid (the type of specimen it corresponds to) and a category (broad description of the type of lab). It's important to factor in this information: though two labs may be labelled as \"pH\", one may refer to urine pH while the other refers to blood pH. The value of these measurements have very different reference ranges and interpretations - and this is one of the reasons why MIMIC-IV stores measurements with an `itemid` rather than a textual label."
      ]
    },
    {
      "cell_type": "code",
      "metadata": {
        "id": "FdPR07DPCJ_9"
      },
      "source": [
        "plt.figure(figsize=[16, 8])\n",
        "\n",
        "# labs\n",
        "lab_labels = [\n",
        "  'White Blood Cells',\n",
        "  'Hemoglobin',\n",
        "  'Potassium',\n",
        "  'Creatinine',\n",
        "  'Magnesium'\n",
        "]\n",
        "for label in lab_labels:\n",
        "  idx = (lab['label'] == label) & (lab['fluid'] == 'Blood')\n",
        "  plt.plot(lab.loc[idx, 'charttime'], lab.loc[idx, 'valuenum'], 'o--',  label=f'{label}')\n",
        "\n",
        "plt.legend(fontsize=16, loc='lower right')\n",
        "#plt.xlim(['2110-09-07 00:00:00', '2110-09-09 00:00:00'])\n",
        "plt.xticks(rotation=45)\n",
        "\n",
        "# shade in their ICU stay\n",
        "for i, row in tr.iterrows():\n",
        "  if row['careunit'] is None:\n",
        "    continue\n",
        "  if 'ICU' in row['careunit']:\n",
        "    plt.fill_between([row['intime'], row['outtime']], [0, 0], [10, 10], color='#ababab', alpha=0.5)\n",
        "\n",
        "plt.show()"
      ],
      "execution_count": null,
      "outputs": []
    },
    {
      "cell_type": "markdown",
      "metadata": {
        "id": "lU9uX0YRx5gL"
      },
      "source": [
        "Everything looks pretty normal here! Let's take a look at a different type of lab: a blood gas. These are bedside measurements of blood which provide primarily inform about the partial pressure of various gases in the blood (e.g. oxygen, carbon dioxide)."
      ]
    },
    {
      "cell_type": "code",
      "metadata": {
        "id": "3bLu1Xaioouu"
      },
      "source": [
        "lab.loc[lab['category'] == 'Blood Gas', 'label'].value_counts()"
      ],
      "execution_count": null,
      "outputs": []
    },
    {
      "cell_type": "code",
      "metadata": {
        "id": "Q93_LsBpon4w"
      },
      "source": [
        "plt.figure(figsize=[16, 8])\n",
        "\n",
        "# labs\n",
        "lab_labels = [\n",
        "  'Base Excess',\n",
        "  'pO2',\n",
        "  'pH',\n",
        "  'pCO2',\n",
        "  'Calculated Total CO2',\n",
        "  'Lactate',\n",
        "  'Free Calcium',\n",
        "]\n",
        "\n",
        "for label in lab_labels:\n",
        "  idx = (lab['label'] == label) & (lab['fluid'] == 'Blood')\n",
        "  plt.plot(lab.loc[idx, 'charttime'], lab.loc[idx, 'valuenum'], 'o--',  label=f'{label}')\n",
        "\n",
        "# add specimen type\n",
        "for i, row in lab.loc[lab['label'] == 'Specimen Type'].iterrows():\n",
        "  plt.text(row['charttime'], 20, row['value'], rotation=60, ha='center')\n",
        "\n",
        "plt.legend(fontsize=16, loc='lower right')\n",
        "#plt.xlim(['2110-09-07 00:00:00', '2110-09-09 00:00:00'])\n",
        "plt.xticks(rotation=45)\n",
        "\n",
        "# shade in their ICU stay\n",
        "for i, row in tr.iterrows():\n",
        "  if row['careunit'] is None:\n",
        "    continue\n",
        "  if 'ICU' in row['careunit']:\n",
        "    plt.fill_between([row['intime'], row['outtime']], [0, 0], [100, 100], color='#ababab', alpha=0.5)\n",
        "\n",
        "plt.show()\n",
        "\n",
        "# same plot, but ignore a few labels\n",
        "plt.figure(figsize=[16, 8])\n",
        "\n",
        "# labs\n",
        "lab_labels = [\n",
        "  'Base Excess',\n",
        "  'pH',\n",
        "  'Lactate',\n",
        "  'Free Calcium',\n",
        "]\n",
        "\n",
        "for label in lab_labels:\n",
        "  idx = (lab['label'] == label) & (lab['fluid'] == 'Blood')\n",
        "  plt.plot(lab.loc[idx, 'charttime'], lab.loc[idx, 'valuenum'], 'o--',  label=f'{label}')\n",
        "\n",
        "# add specimen type\n",
        "for i, row in lab.loc[lab['label'] == 'Specimen Type'].iterrows():\n",
        "  plt.text(row['charttime'], 10, row['value'], rotation=60, ha='center')\n",
        "\n",
        "plt.legend(fontsize=16, loc='lower right')\n",
        "#plt.xlim(['2110-09-07 00:00:00', '2110-09-09 00:00:00'])\n",
        "plt.xticks(rotation=45)\n",
        "\n",
        "# shade in their ICU stay\n",
        "for i, row in tr.iterrows():\n",
        "  if row['careunit'] is None:\n",
        "    continue\n",
        "  if 'ICU' in row['careunit']:\n",
        "    plt.fill_between([row['intime'], row['outtime']], [0, 0], [15, 15], color='#ababab', alpha=0.5)\n",
        "\n",
        "plt.show()"
      ],
      "execution_count": null,
      "outputs": []
    },
    {
      "cell_type": "markdown",
      "metadata": {
        "id": "j7okjqh6zh7e"
      },
      "source": [
        "### *prescriptions*, *pharmacy*, *emar*, *emar_detail*"
      ]
    },
    {
      "cell_type": "markdown",
      "metadata": {
        "id": "K693NiT1AEuZ"
      },
      "source": [
        "These tables record medications given to the patient.\n",
        "\n",
        "* The *prescriptions* table tracks medication orders, i.e. the intention for a patient to receive a medication (and almost all do receive it!)\n",
        "* The *pharmacy* table provides further detail about the formulation of the prescribed medication\n",
        "* The *emar* and *emar_detail* tables, short of electronic medication administration record, record actual administration of medications\n",
        "\n",
        "The *emar* and *emar_detail* are sourced from barcode scanning of physical medications at the time of their administration. As a result, they provide a rich and highly granular record of a patient's medications. Note however that eMAR data is not available for all patients as the system was implemented during the collection period of MIMIC-IV. The patient we have selected does have eMAR during their hospital stay, which we can confirm with a query.\n",
        "\n",
        "First, let's look at snapshots of these tables."
      ]
    },
    {
      "cell_type": "code",
      "metadata": {
        "id": "V5-N96dD_UYc"
      },
      "source": [
        "query = f\"\"\"\n",
        "SELECT *\n",
        "FROM `physionet-data.{dataset}_hosp.prescriptions`\n",
        "WHERE hadm_id = {hadm_id}\n",
        "ORDER BY starttime\n",
        "\"\"\"\n",
        "pr = run_query(query)\n",
        "display(pr.head())\n",
        "\n",
        "query = f\"\"\"\n",
        "SELECT *\n",
        "FROM `physionet-data.{dataset}_hosp.pharmacy`\n",
        "WHERE hadm_id = {hadm_id}\n",
        "ORDER BY starttime\n",
        "\"\"\"\n",
        "ph = run_query(query)\n",
        "display(ph.head())\n",
        "\n",
        "query = f\"\"\"\n",
        "SELECT *\n",
        "FROM `physionet-data.{dataset}_hosp.emar`\n",
        "WHERE hadm_id = {hadm_id}\n",
        "ORDER BY charttime\n",
        "\"\"\"\n",
        "emar = run_query(query)\n",
        "display(emar.head())\n",
        "\n",
        "query = f\"\"\"\n",
        "SELECT det.*\n",
        "FROM `physionet-data.{dataset}_hosp.emar_detail` det\n",
        "INNER JOIN `physionet-data.{dataset}_hosp.emar` e\n",
        "  ON det.emar_id = e.emar_id\n",
        "WHERE e.hadm_id = {hadm_id}\n",
        "ORDER BY emar_seq\n",
        "\"\"\"\n",
        "emardet = run_query(query)\n",
        "display(emardet.head())"
      ],
      "execution_count": null,
      "outputs": []
    },
    {
      "cell_type": "markdown",
      "metadata": {
        "id": "MZ4U3xSlENX7"
      },
      "source": [
        "As the patient is prescribed and administered heparin and enoxaparin (both anticoagulants), they serve as a useful illustration of the differences between these tables. First, we can look at the prescriptions for these medications."
      ]
    },
    {
      "cell_type": "code",
      "metadata": {
        "id": "UNoO4jLyKDzX"
      },
      "source": [
        "meds = ['Heparin', 'Heparin Sodium', 'Enoxaparin Sodium']\n",
        "colors = {\n",
        "    'Heparin': '#1b9e77',\n",
        "    'Heparin Sodium': '#1b9e77',\n",
        "    'Enoxaparin Sodium': '#d95f02'\n",
        "}\n",
        "idx = pr['drug'].isin(meds)\n",
        "df = pr.loc[idx].copy()\n",
        "\n",
        "plt.figure(figsize=[12, 8])\n",
        "for med in meds:\n",
        "  color = colors[med]\n",
        "  idx = df['drug'] == med\n",
        "  n = 0\n",
        "  for i, row in df.loc[idx].iterrows():\n",
        "    if n > 0:\n",
        "      # do not add to the legend if we have already plotted at least once\n",
        "      med = '__no_legend__'\n",
        "\n",
        "    xi = [row['starttime'], row['stoptime']]\n",
        "    dose = row['dose_val_rx']\n",
        "    if '-' in dose:\n",
        "      # plot upper/lower ranges\n",
        "      dose_lower, dose_upper = dose.split('-')\n",
        "      dose_lower = int(dose_lower)\n",
        "      dose_upper = int(dose_upper)\n",
        "      plt.fill_between(xi, [dose_lower, dose_lower], [dose_upper, dose_upper], color=color, alpha=0.5)\n",
        "    else:\n",
        "      dose = pd.to_numeric(dose.replace(',', ''))\n",
        "      plt.plot(xi, [dose, dose], 'o-', color=color, label=med)\n",
        "    n += 1\n",
        "\n",
        "\n",
        "# shade in their ICU stay\n",
        "upper = 25500\n",
        "for i, row in tr.iterrows():\n",
        "  if row['careunit'] is None:\n",
        "    continue\n",
        "  if 'ICU' in row['careunit']:\n",
        "    plt.fill_between([row['intime'], row['outtime']], [0, 0], [upper, upper], color='#ababab', alpha=0.5)\n",
        "\n",
        "\n",
        "plt.legend()\n",
        "plt.xticks(rotation=45)\n",
        "plt.show()"
      ],
      "execution_count": null,
      "outputs": []
    },
    {
      "cell_type": "code",
      "metadata": {
        "id": "BkDZ3nZaESii"
      },
      "source": [
        "idx = emar['medication'].isin(['Heparin', 'Enoxaparin Sodium'])\n",
        "df_emar = emar.loc[idx].copy()\n",
        "\n",
        "# dose due is in the \"parent\" of the emar detail group\n",
        "# where parent_field_ordinal is null\n",
        "# only 1 of these per emar_id\n",
        "idx = emardet['parent_field_ordinal'].isnull()\n",
        "cols = [\n",
        "  'emar_id', 'administration_type', 'dose_due', 'dose_due_unit',\n",
        "  'complete_dose_not_given', 'will_remainder_of_dose_be_given'\n",
        "]\n",
        "df_emar = df_emar.merge(emardet.loc[idx, cols], on='emar_id', how='left')\n",
        "df_emar['dose_due'] = pd.to_numeric(df_emar['dose_due'])\n",
        "\n",
        "# add in the actual dose administered\n",
        "# since it can be across multiple formulary doses (e.g. multiple pills)\n",
        "# we aggregate the detail table\n",
        "# in heparin/enoxaparin case, we are probably aggregating over a single adm\n",
        "# note that for heparin, since it's a continuous infusion, dose_given is 0/None\n",
        "idx = emardet['parent_field_ordinal'].notnull()\n",
        "cols = ['emar_id', 'dose_given', 'dose_given_unit', 'product_amount_given', 'product_unit']\n",
        "em = emardet.loc[idx, cols].copy()\n",
        "\n",
        "# re-cast columns - sometimes drugs have string doses\n",
        "em['dose_given'] = pd.to_numeric(em['dose_given'], errors='coerce')\n",
        "em['product_amount_given'] = pd.to_numeric(em['product_amount_given'], errors='coerce')\n",
        "\n",
        "em = em.groupby('emar_id').agg(\n",
        "  dose_given=pd.NamedAgg(column='dose_given', aggfunc='sum'),\n",
        "  dose_given_unit=pd.NamedAgg(column='dose_given_unit', aggfunc='max'),\n",
        "  product_amount_given=pd.NamedAgg(column='product_amount_given', aggfunc='sum'),\n",
        "  product_unit=pd.NamedAgg(column='product_unit', aggfunc='max'),\n",
        ")\n",
        "\n",
        "df_emar = df_emar.merge(em, on='emar_id', how='left')\n",
        "df_emar.sort_values(['charttime', 'emar_seq'], inplace=True)\n",
        "\n",
        "# display a subset of the columns\n",
        "cols = ['hadm_id', 'emar_id', 'pharmacy_id', 'charttime', 'medication',\n",
        "        'administration_type', 'scheduletime', 'storetime',\n",
        "        'dose_due', 'dose_due_unit', 'dose_given', 'dose_given_unit']\n",
        "df_emar[cols].head(n=5)"
      ],
      "execution_count": null,
      "outputs": []
    },
    {
      "cell_type": "markdown",
      "metadata": {
        "id": "VUmrseFaylbY"
      },
      "source": [
        "Above, we've combined detailed information about the eMAR administrations (primarily to get the dose given) with the main information about the administrations in the *emar* table.\n",
        "\n",
        "We can see a lot of information here: when heparin was started, stopped, when dosing was confirmed, and so on. We also can see the `dose_due`. In this case, `dose_given` is 0, and this appears to happen as this is a continuous infusion rather than an individual dose.\n",
        "\n",
        "Note that the `pharmacy_id` gives us a link to the associated record in the *pharmacy* table, which we can look up pretty easily:"
      ]
    },
    {
      "cell_type": "code",
      "metadata": {
        "id": "5IkUy3IN4cfw"
      },
      "source": [
        "ph.loc[ph['pharmacy_id'].isin([76768838, 79252552]), ['hadm_id', 'pharmacy_id', 'starttime', 'stoptime', 'medication', 'proc_type', 'route', 'frequency']]"
      ],
      "execution_count": null,
      "outputs": []
    },
    {
      "cell_type": "markdown",
      "metadata": {
        "id": "cKexFuAwzVZD"
      },
      "source": [
        "We can similarly find the orders in prescriptions. In the below example, we're highlighting how you can find drugs using the name of the drug, though note that a few of the `pharmacy_id` again match the administrations above."
      ]
    },
    {
      "cell_type": "code",
      "metadata": {
        "id": "OLwQ4IBH3JXc"
      },
      "source": [
        "idx = pr['drug'].isin(['Heparin', 'Heparin Sodium'])\n",
        "pr.loc[idx, ['subject_id', 'pharmacy_id', 'starttime', 'stoptime', 'drug', 'dose_val_rx']]"
      ],
      "execution_count": null,
      "outputs": []
    },
    {
      "cell_type": "code",
      "metadata": {
        "id": "oEKcHzJ3HZ2b"
      },
      "source": [
        "plt.figure(figsize=[12, 8])\n",
        "for med in df_emar['medication'].unique():\n",
        "  idx = df_emar['medication'] == med\n",
        "  plt.plot(df_emar.loc[idx, 'charttime'], df_emar.loc[idx, 'dose_due'], 'o', label=med)\n",
        "\n",
        "\n",
        "# shade in their ICU stay\n",
        "upper = 1200\n",
        "for i, row in tr.iterrows():\n",
        "  if row['careunit'] is None:\n",
        "    continue\n",
        "  if 'ICU' in row['careunit']:\n",
        "    plt.fill_between([row['intime'], row['outtime']], [0, 0], [upper, upper], color='#ababab', alpha=0.5)\n",
        "\n",
        "\n",
        "plt.legend()\n",
        "plt.xticks(rotation=45)\n",
        "plt.show()"
      ],
      "execution_count": null,
      "outputs": []
    },
    {
      "cell_type": "markdown",
      "metadata": {
        "id": "Vmws0eOGMyTp"
      },
      "source": [
        "Finally, we can combine the medication information with other information (e.g. labs). Often anticoagulants are titrated based on a coagulation factor in the blood, so let's plot these medications with those factors."
      ]
    },
    {
      "cell_type": "code",
      "metadata": {
        "id": "HuWk1rspMx6R"
      },
      "source": [
        "plt.figure(figsize=[12, 8])\n",
        "meds = {\n",
        "    'Heparin': 'Heparin (hecto-units/hour)',\n",
        "    'Enoxaparin Sodium': 'Enoxaparin (centigrams)',\n",
        "}\n",
        "for med, label in meds.items():\n",
        "  idx = df_emar['medication'] == med\n",
        "  if med == 'Heparin':\n",
        "    multiplier = 0.01\n",
        "  else:\n",
        "    multiplier = 0.1\n",
        "  plt.plot(df_emar.loc[idx, 'charttime'], df_emar.loc[idx, 'dose_due'] * multiplier, 'o', label=label)\n",
        "\n",
        "\n",
        "# plot the lab factors\n",
        "for label in ['PT', 'INR(PT)']:\n",
        "  idx = lab['label'] == label\n",
        "  plt.plot(lab.loc[idx, 'charttime'], lab.loc[idx, 'valuenum'], 'o-', label=label)\n",
        "\n",
        "# shade in their ICU stay\n",
        "upper = 30\n",
        "for i, row in tr.iterrows():\n",
        "  if row['careunit'] is None:\n",
        "    continue\n",
        "  if 'ICU' in row['careunit']:\n",
        "    plt.fill_between([row['intime'], row['outtime']], [0, 0], [upper, upper], color='#ababab', alpha=0.5)\n",
        "\n",
        "plt.legend()\n",
        "plt.xticks(rotation=45)\n",
        "plt.show()"
      ],
      "execution_count": null,
      "outputs": []
    },
    {
      "cell_type": "markdown",
      "metadata": {
        "id": "0XAhmyT_tZp1"
      },
      "source": [
        "**Note that heparin/enoxaparin administrations have special units**. Heparin is usually in units/hour, we've plotted hecto-units/hour (1/100 units). Similarly we've plotted centigrams rather than milligrams (1/10 mg).\n",
        "\n",
        "Without knowing the reference ranges of the coagulation measures, it's hard to know whether this is OK! We can add those to the plot using the reference ranges from the lab table.\n",
        "\n"
      ]
    },
    {
      "cell_type": "code",
      "metadata": {
        "id": "Rq-5z87utZJ2"
      },
      "source": [
        "plt.figure(figsize=[12, 8])\n",
        "meds = {\n",
        "    'Heparin': 'Heparin (hecto-units/hour)',\n",
        "    'Enoxaparin Sodium': 'Enoxaparin (centigrams)',\n",
        "}\n",
        "for med, label in meds.items():\n",
        "  idx = df_emar['medication'] == med\n",
        "  if med == 'Heparin':\n",
        "    multiplier = 0.01\n",
        "  else:\n",
        "    multiplier = 0.1\n",
        "  plt.plot(df_emar.loc[idx, 'charttime'], df_emar.loc[idx, 'dose_due'] * multiplier, 'o', label=label)\n",
        "\n",
        "\n",
        "# plot the lab factors\n",
        "for label in ['PT', 'INR(PT)']:\n",
        "  idx = lab['label'] == label\n",
        "  # plot the lab itself\n",
        "  p = plt.plot(lab.loc[idx, 'charttime'], lab.loc[idx, 'valuenum'], 'o-', label=label)\n",
        "\n",
        "  # plot the lower/upper reference range\n",
        "  plt.plot(lab.loc[idx, 'charttime'], lab.loc[idx, 'ref_range_lower'], 'x--', color=p[0].get_color(), label='__no_legend__')\n",
        "  plt.plot(lab.loc[idx, 'charttime'], lab.loc[idx, 'ref_range_upper'], 'x--', color=p[0].get_color(), label='__no_legend__')\n",
        "\n",
        "# print the reference ranges\n",
        "idx = lab['label'].isin(['PT', 'INR(PT)'])\n",
        "display(lab.loc[idx, ['label', 'ref_range_lower', 'ref_range_upper']].drop_duplicates())\n",
        "\n",
        "# shade in their ICU stay\n",
        "upper = 30\n",
        "for i, row in tr.iterrows():\n",
        "  if row['careunit'] is None:\n",
        "    continue\n",
        "  if 'ICU' in row['careunit']:\n",
        "    plt.fill_between([row['intime'], row['outtime']], [0, 0], [upper, upper], color='#ababab', alpha=0.5)\n",
        "\n",
        "plt.legend()\n",
        "plt.xticks(rotation=45)\n",
        "plt.show()"
      ],
      "execution_count": null,
      "outputs": []
    },
    {
      "cell_type": "markdown",
      "metadata": {
        "id": "0CfA90ufvq-H"
      },
      "source": [
        "From this it's much clearer that this patient has very high levels of anticoagulation, and that her blood takes significantly longer to plot than the reference ranges. This may be due to a disease process or a therapeutic treatment for certain conditions (atrial fibrillation, etc). In this case, as the patient came in with a DVT, we can be fairly sure this is therapeutic anticoagulation."
      ]
    },
    {
      "cell_type": "markdown",
      "metadata": {
        "id": "_cxWMDhIzk2Y"
      },
      "source": [
        "\n",
        "### *d_hcpcs*, *hcpcsevents*, *d_icd_diagnoses*, *diagnoses_icd*, *d_icd_procedures*, *procedures_icd*, *drgcodes*"
      ]
    },
    {
      "cell_type": "markdown",
      "metadata": {
        "id": "NHq3osCTOKdu"
      },
      "source": [
        "The billing code tables record information about diagnoses and procedures for which a patient was billed. They are often used as surrogates for the diseases or conditions a patient has, though caution is warranted as billed items do not perfectly account for all procedures and diseases present. For example, obesity is common in the ICU cohort as measured patient body mass index (over 30% of patients are obese), but rare if checked with the diagnostic billing code for obesity (~10%). We can look at the diagnosis table for this hospitalization to get an idea of how the billing tables work."
      ]
    },
    {
      "cell_type": "code",
      "metadata": {
        "id": "dCEGedRtPIeI"
      },
      "source": [
        "query = f\"\"\"\n",
        "SELECT dx.*, di.long_title\n",
        "FROM `physionet-data.{dataset}_hosp.diagnoses_icd` dx\n",
        "INNER JOIN `physionet-data.{dataset}_hosp.d_icd_diagnoses` di\n",
        "  ON dx.icd_code = di.icd_code\n",
        "WHERE hadm_id = {hadm_id}\n",
        "ORDER BY dx.seq_num\n",
        "\"\"\"\n",
        "dx = run_query(query)\n",
        "dx"
      ],
      "execution_count": null,
      "outputs": []
    },
    {
      "cell_type": "markdown",
      "metadata": {
        "id": "uE2h7G3dPdGh"
      },
      "source": [
        "Above we can see that there are many diagnoses for this visit (29!). The `seq_num` column provides an ordering for diagnoses. The order does have some meaning; the first diagnosis is usually considered \"primary\", but disease specific coding practices may impact this. In this case, we can see the patient was admitted for an acute thrombosis (`seq_num` = 1) with associated respiratory failure (`seq_num` = 2). Other conditions were likely chronic and occuring prior to their hospitalization (e.g. obstructive sleep apnea), while some diseases are certainly acute and localized to the hospital stay (i.e. the embolism)."
      ]
    },
    {
      "cell_type": "code",
      "metadata": {
        "id": "LXM0MtnIto08"
      },
      "source": [
        "query = f\"\"\"\n",
        "SELECT drg.*\n",
        "FROM `physionet-data.{dataset}_hosp.drgcodes` drg\n",
        "WHERE hadm_id = {hadm_id}\n",
        "\"\"\"\n",
        "drg = run_query(query)\n",
        "drg"
      ],
      "execution_count": null,
      "outputs": []
    },
    {
      "cell_type": "code",
      "metadata": {
        "id": "TAbDSym7uSbA"
      },
      "source": [
        "query = f\"\"\"\n",
        "SELECT dx.*, di.long_title\n",
        "FROM `physionet-data.{dataset}_hosp.procedures_icd` dx\n",
        "INNER JOIN `physionet-data.{dataset}_hosp.d_icd_procedures` di\n",
        "  ON dx.icd_code = di.icd_code\n",
        "WHERE hadm_id = {hadm_id}\n",
        "ORDER BY dx.seq_num\n",
        "\"\"\"\n",
        "proc = run_query(query)\n",
        "print(proc.iloc[0, -1])\n",
        "proc"
      ],
      "execution_count": null,
      "outputs": []
    },
    {
      "cell_type": "markdown",
      "metadata": {
        "id": "YBBX1RFxz2aE"
      },
      "source": [
        "Surprisingly there is only one procedure with the patient hospitalization - a ventilation event which lasted over 96 hours."
      ]
    },
    {
      "cell_type": "code",
      "metadata": {
        "id": "u3ri_i0qvzt_"
      },
      "source": [
        "query = f\"\"\"\n",
        "SELECT h.*\n",
        "FROM `physionet-data.{dataset}_hosp.hcpcsevents` h\n",
        "WHERE hadm_id = {hadm_id}\n",
        "\"\"\"\n",
        "hcpcs = run_query(query)\n",
        "hcpcs"
      ],
      "execution_count": null,
      "outputs": []
    },
    {
      "cell_type": "markdown",
      "metadata": {
        "id": "JQu08D9N0AQB"
      },
      "source": [
        "And finally, there are no HCPCS associated data with this patient."
      ]
    },
    {
      "cell_type": "markdown",
      "metadata": {
        "id": "Y-ysWOmzQWlB"
      },
      "source": [
        "### *icu*\n",
        "\n",
        "The *icu* dataset contains information primarily sourced from the MetaVision clinical information system (iMDSoft). MetaVision is used to document most measurements, treatments, and ongoing processes for a patient while they stay in the ICU. The *icu* dataset has an *icustays* table which defines individual patient stays in the ICU (based upon *transfers*), and the remaining events tables which contain patient data. The tables are in a \"star\" schema, where the *d_items* table defines concepts indexed by the `itemid` column, and the remaining tables contain patient data for each `itemid`. The tables in the *icu* dataset are:\n",
        "\n",
        "* *icustays*\n",
        "* *d_items*\n",
        "* Events tables:\n",
        "  * *chartevents*\n",
        "  * *datetimeevents*\n",
        "  * *inputevents*\n",
        "  * *outputevents*\n",
        "  * *procedureevents*"
      ]
    },
    {
      "cell_type": "markdown",
      "metadata": {
        "id": "o4Ls2zD2VA9q"
      },
      "source": [
        "### *icustays*"
      ]
    },
    {
      "cell_type": "code",
      "metadata": {
        "id": "Y0Ou7KH-QYF6"
      },
      "source": [
        "query = f\"\"\"\n",
        "SELECT *\n",
        "FROM `physionet-data.{dataset}_icu.icustays`\n",
        "WHERE hadm_id = {hadm_id}\n",
        "\"\"\"\n",
        "ie = run_query(query)\n",
        "\n",
        "# retain stay_id for later queries\n",
        "stay_id = ie['stay_id'].values[0]\n",
        "\n",
        "ie"
      ],
      "execution_count": null,
      "outputs": []
    },
    {
      "cell_type": "markdown",
      "metadata": {
        "id": "FBB3UQaKVMhO"
      },
      "source": [
        "For this patient's hospitalization, we have a single ICU stay of almost 4 days. The patient was admitted to the ICU at `intime` (2176-11-26 02:34:49) and was discharged from the ICU at `outtime` (2176-11-29 20:58:54). Note that unlike the *transfers* table, the *icustays* table has only one row for the patient's ICU stay. This reflects an underlying assumption of the table where consecutive physical stays in the ICU are merged into a single encounter.\n",
        "\n",
        "ICU encounters are indexed by the `stay_id` column. This uniquely identifies this patient's ICU stay."
      ]
    },
    {
      "cell_type": "markdown",
      "metadata": {
        "id": "iW-lDqD4WO0m"
      },
      "source": [
        "### *chartevents* and *d_items*\n",
        "\n",
        "Rather than individual investigate each event table, it's easiest to understand *chartevents*, and subsequently contrast the other tables to it. *chartevents* is the largest of the data tables, and contains most information documented during a patient's stay."
      ]
    },
    {
      "cell_type": "code",
      "metadata": {
        "id": "OlI6wEcDo1GT"
      },
      "source": [
        "# Load admissions\n",
        "query = f\"\"\"\n",
        "SELECT *\n",
        "FROM `physionet-data.{dataset}_icu.chartevents`\n",
        "WHERE stay_id = {stay_id}\n",
        "ORDER BY charttime, itemid\n",
        "\"\"\"\n",
        "ce = run_query(query)\n",
        "print(ce.shape)\n",
        "ce.head()"
      ],
      "execution_count": null,
      "outputs": []
    },
    {
      "cell_type": "markdown",
      "metadata": {
        "id": "nWF7rF4qW5Cy"
      },
      "source": [
        "During the patient's four days in the ICU over 4,000 observations were documented, highlighting how heavily monitored patients are. The `subject_id`, `hadm_id`, and `stay_id` columns are patient, hospital, and ICU stay identifiers as we are famiiar with. `charttime` contains the time at which a measurement corresponds to, whereas `storetime` contains when the measurement was stored in the system. The `itemid` column stores an integer which uniquely identifies concepts such as heart rate, oxygen saturation, and so on. The `value` column stores the patient measurement made, and if it is numeric, the `valuenum` column will contain it cast to a numeric data type. The `valueuom` contains the unit of measurement associated with the value (if appropriate). Finally, the `warning` column indicates if staff added a warning to the value.\n",
        "\n",
        "To get an idea of what type of data is present in chartevents, we can join this table to *d_items* to get the `label` for each itemid, and do a simple count of the number of rows."
      ]
    },
    {
      "cell_type": "code",
      "metadata": {
        "id": "tv2BOkBXf6vK"
      },
      "source": [
        "query = f\"\"\"\n",
        "SELECT *\n",
        "FROM `physionet-data.{dataset}_icu.d_items`\n",
        "ORDER BY itemid\n",
        "\"\"\"\n",
        "di = run_query(query)\n",
        "\n",
        "print('Our top 5 rows and their associated definitions.')\n",
        "\n",
        "display(ce[['stay_id', 'charttime', 'itemid', 'value', 'valueuom']].head(n=4))\n",
        "\n",
        "itemid = ce['itemid'].head(n=4).values\n",
        "display(di.loc[di['itemid'].isin(itemid), ['itemid', 'label', 'category', 'linksto']].sort_values('itemid'))\n",
        "\n",
        "ce.merge(di, on='itemid', how='inner')['label'].value_counts()[:30]"
      ],
      "execution_count": null,
      "outputs": []
    },
    {
      "cell_type": "markdown",
      "metadata": {
        "id": "LkA58VL6hIEC"
      },
      "source": [
        "We can see the most frequently documented item are the safety measures in place around the patient, followed by vital signs, measurements around activity, bed positioning, respiratory measures, an anti embolism device, and so on.\n",
        "As vital signs are frequently documented, they provide a useful visualization of the data in the *chartevents* table. However, to find out which `itemid` values correspond to routinely measured vital signs, we must look for them in the *d_items* table."
      ]
    },
    {
      "cell_type": "code",
      "metadata": {
        "id": "W6rl8mnrZdw1"
      },
      "source": [
        "idx = di['category'] == 'Routine Vital Signs'\n",
        "di.loc[idx]"
      ],
      "execution_count": null,
      "outputs": []
    },
    {
      "cell_type": "markdown",
      "metadata": {
        "id": "7AkDozuhZvDP"
      },
      "source": [
        "We can see that there are quite a few columns in the *d_items* table. The `label` column provides a human interpretable description of the `itemid`, while `abbreviation` shows an abbreviated form. The `linksto` column indicates which table contains data associated with the `itemid` (each `itemid` is only ever present in one of the events tables). The remaining columns provide information about the concept: a high level category (`category`), the unit of measure (`unitname`), and the type of measurement (`param_type`, can be 'Text' for drop down items, 'Numeric' for numeric data, 'Date' for timestamp data, or 'Checkbox' for 0/1 data). Normal reference ranges are also provided in the `lownormalvalue` and `highnormalvalue` columns.\n",
        "\n",
        "Scrolling through this list, we can identify five `itemid` for vital signs to plot:\n",
        "\n",
        "* 220210 - Respiratory Rate\n",
        "* 220045 - Heart Rate\n",
        "* 220179 - Non Invasive Blood Pressure - systolic\n",
        "* 220180 - Non Invasive Blood Pressure - diastolic\n",
        "* 220181 - Non Invasive Blood Pressure - mean\n",
        "* 223762 - Temperature Celsius\n",
        "\n",
        "We can now plot the vital signs for our patient by selecting only the rows corresponding to each one of these `itemid` values in turn.\n",
        "\n",
        "N.B. We do not include 220052 (Arterial Blood Pressure mean) as the patient never has it measured (i.e. they never had an indwelling arterial catheter), though it would certainly be a useful measure for other patients."
      ]
    },
    {
      "cell_type": "code",
      "metadata": {
        "id": "DeUiptDTm53c"
      },
      "source": [
        "plt.figure(figsize=[16, 8])\n",
        "\n",
        "chart_labels = {\n",
        "  220045: 'Heart Rate',\n",
        "  220210: 'Respiratory Rate',\n",
        "  220179: 'NIBP (sys)',\n",
        "  220180: 'NIBP (dias)',\n",
        "  220181: 'NIBP (mean)',\n",
        "  223761: 'Temperature (deg F)'\n",
        "}\n",
        "for itemid, label in chart_labels.items():\n",
        "  # charted data from the ICU\n",
        "  idx = ce['itemid'] == itemid\n",
        "  dff = ce.loc[idx].sort_values('charttime')\n",
        "  p = plt.plot(dff['charttime'], dff['valuenum'], 'o--', label=label)\n",
        "\n",
        "plt.legend(loc='upper right')\n",
        "plt.xticks(rotation=45)\n",
        "\n",
        "# concise dates on the x-axis\n",
        "ax = plt.gca()\n",
        "locator = mdates.AutoDateLocator(minticks=3, maxticks=7)\n",
        "formatter = mdates.ConciseDateFormatter(locator)\n",
        "ax.xaxis.set_major_locator(locator)\n",
        "ax.xaxis.set_major_formatter(formatter)\n",
        "\n",
        "# plt.xlim(['2110-09-06 18:00:00', '2110-09-08 18:00:00'])\n",
        "plt.show()"
      ],
      "execution_count": null,
      "outputs": []
    },
    {
      "cell_type": "markdown",
      "metadata": {
        "id": "AIcQwBqrcV9w"
      },
      "source": [
        "Interestingly we can see a sudden increase in the patient's heart rate just before midnight on the 28th. There are a few possible causes, and we could plot associated data to try to figure it out! An obvious first check is the patient's heart rhythm."
      ]
    },
    {
      "cell_type": "code",
      "metadata": {
        "id": "m2jmWNXg6DAp"
      },
      "source": [
        "plt.figure(figsize=[16, 8])\n",
        "\n",
        "chart_labels = {\n",
        "  220045: 'Heart Rate',\n",
        "  220210: 'Respiratory Rate',\n",
        "  220179: 'NIBP (sys)',\n",
        "  220180: 'NIBP (dias)',\n",
        "  220181: 'NIBP (mean)'\n",
        "}\n",
        "for itemid, label in chart_labels.items():\n",
        "  # charted data from the ICU\n",
        "  idx = ce['itemid'] == itemid\n",
        "  dff = ce.loc[idx].sort_values('charttime')\n",
        "  p = plt.plot(dff['charttime'], dff['valuenum'], 'o--', label=label)\n",
        "\n",
        "markers = ['o', 's', 'd', '^']\n",
        "rhythms = ce.loc[ce['itemid'] == 220048, 'value'].unique()\n",
        "for i, rhythm in enumerate(rhythms):\n",
        "  idx = (ce['itemid'] == 220048) & (ce['value'] == rhythm)\n",
        "  plt.plot(ce.loc[idx, 'charttime'], np.ones(idx.sum())*80 + i*5, markers[i], label=rhythm)\n",
        "\n",
        "plt.legend(loc='upper left')\n",
        "plt.xticks(rotation=45)\n",
        "\n",
        "# concise dates on the x-axis\n",
        "ax = plt.gca()\n",
        "locator = mdates.AutoDateLocator(minticks=3, maxticks=7)\n",
        "formatter = mdates.ConciseDateFormatter(locator)\n",
        "ax.xaxis.set_major_locator(locator)\n",
        "ax.xaxis.set_major_formatter(formatter)\n",
        "\n",
        "# plt.xlim(['2110-09-06 18:00:00', '2110-09-08 18:00:00'])\n",
        "plt.show()"
      ],
      "execution_count": null,
      "outputs": []
    },
    {
      "cell_type": "markdown",
      "metadata": {
        "id": "NSvAcPMZelKZ"
      },
      "source": [
        "This makes it quite clear - the patient has atrial fibrillation charted at 22:00:00 which is around the time the heart rate increases. You may have also noted that paroxysmal atrial fibrillation was one of the diagnoses billed for in the *diagnoses_icd* table earlier."
      ]
    },
    {
      "cell_type": "markdown",
      "metadata": {
        "id": "AL7Eg65fgaEj"
      },
      "source": [
        "### Other events tables\n",
        "\n",
        "With our new understanding of *chartevents*, it's fairly easy to understand the other events tables.\n",
        "\n",
        "* *datetimeevents* - This table is similar to *chartevents*, but the `value` in this case is a date shifted date which is consistent with the patient's deidentified timeline\n",
        "* *outputevents* - Contains outputs from the patient: urine output volume, fluid output from drains, stool, and so on.\n",
        "* *inputevents* - Contains inputs given to the patient either orally or via another route, with intravenous being common. Notably this table does not have `charttime`: each row has a `starttime` and an `endtime`, and inputs are durations rather than instantaneous events.\n",
        "* *procedureevents* - Similar to *inputevents*, but for processes which are not patient inputs (mechanical ventilation, dialysis, and so on).\n",
        "\n",
        "Let's look at *inputevents* since it contains useful information about patient administrations and has a slightly different form than *chartevents*."
      ]
    },
    {
      "cell_type": "code",
      "metadata": {
        "id": "H7KMDfeIz6ts"
      },
      "source": [
        "# Load admissions\n",
        "query = f\"\"\"\n",
        "SELECT *\n",
        "FROM `physionet-data.{dataset}_icu.datetimeevents`\n",
        "ORDER BY charttime\n",
        "LIMIT 5\n",
        "\"\"\"\n",
        "inp = run_query(query)\n",
        "print(inp.shape)\n",
        "inp.head()"
      ],
      "execution_count": null,
      "outputs": []
    },
    {
      "cell_type": "code",
      "metadata": {
        "id": "XgGtJ83AhWIX"
      },
      "source": [
        "# Load admissions\n",
        "query = f\"\"\"\n",
        "SELECT *\n",
        "FROM `physionet-data.{dataset}_icu.inputevents`\n",
        "WHERE stay_id = {stay_id}\n",
        "ORDER BY starttime, itemid\n",
        "\"\"\"\n",
        "inp = run_query(query)\n",
        "print(inp.shape)\n",
        "inp.head()"
      ],
      "execution_count": null,
      "outputs": []
    },
    {
      "cell_type": "markdown",
      "metadata": {
        "id": "ONUbfBt-he4s"
      },
      "source": [
        "As mentioned before, we see we have a `starttime` and an `endtime` for each patient. Note also the large number of extra columns describing the input given including the type, the patient's weight (many medications are dosed by weight), the original amount in the container which held the medication (e.g. the volume of the IV bag), and so on.\n",
        "\n",
        "Let's look for medications started after 20:00:00 on 2173-03-31."
      ]
    },
    {
      "cell_type": "code",
      "metadata": {
        "id": "lTcQ-dMujQAS"
      },
      "source": [
        "df = inp.merge(di[['itemid', 'label']], on='itemid', how='inner')\n",
        "idx = df['starttime'] >= '2173-03-31 20:00:00'\n",
        "cols = ['stay_id', 'starttime', 'endtime', 'itemid', 'label', 'amount', 'amountuom', 'rate', 'rateuom']\n",
        "df.loc[idx, cols].sort_values(['starttime', 'label'])"
      ],
      "execution_count": null,
      "outputs": []
    },
    {
      "cell_type": "markdown",
      "metadata": {
        "id": "fNHqBXqfkZg_"
      },
      "source": [
        "Note the administration of magnesium - a common treatment for atrial fibrillation. We can plot the administration of the treatment over time combined with the vital signs from earlier to visualize how the timing fits."
      ]
    },
    {
      "cell_type": "code",
      "metadata": {
        "id": "Q6j4_t5kknA1"
      },
      "source": [
        "plt.figure(figsize=[16, 8])\n",
        "\n",
        "chart_labels = {\n",
        "  220045: 'Heart Rate',\n",
        "  220210: 'Respiratory Rate'\n",
        "}\n",
        "for itemid, label in chart_labels.items():\n",
        "  # charted data from the ICU\n",
        "  idx = ce['itemid'] == itemid\n",
        "  dff = ce.loc[idx].sort_values('charttime')\n",
        "  p = plt.plot(dff['charttime'], dff['valuenum'], 'o--', label=label)\n",
        "\n",
        "\n",
        "inp_labels = {\n",
        "  227523: 'Magnesium'\n",
        "}\n",
        "for itemid, label in inp_labels.items():\n",
        "  # charted data from the ICU\n",
        "  idx = inp['itemid'] == itemid\n",
        "  dff = inp.loc[idx].sort_values('starttime')\n",
        "  for i, row in dff.iterrows():\n",
        "    amount = pd.to_numeric(row['amount'])\n",
        "    plt.fill_between([row['starttime'], row['endtime']], [0, 0], [amount, amount], color='#a8ddb5', alpha=0.5)\n",
        "\n",
        "plt.legend(loc='upper right')\n",
        "plt.xticks(rotation=45)\n",
        "\n",
        "# concise dates on the x-axis\n",
        "ax = plt.gca()\n",
        "locator = mdates.AutoDateLocator(minticks=3, maxticks=7)\n",
        "formatter = mdates.ConciseDateFormatter(locator)\n",
        "ax.xaxis.set_major_locator(locator)\n",
        "ax.xaxis.set_major_formatter(formatter)\n",
        "\n",
        "# plt.xlim(['2110-09-06 18:00:00', '2110-09-08 18:00:00'])\n",
        "plt.show()\n"
      ],
      "execution_count": null,
      "outputs": []
    },
    {
      "cell_type": "markdown",
      "metadata": {
        "id": "MEafvWVRmHmc"
      },
      "source": [
        "From this, it's hard to conclude whether this is just magnesium supplementation or a treatment for AF - but it is certainly interesting!\n",
        "\n",
        "You may have also noted that we now have a few different sources of medication information for a patient while they are in the ICU. If we go back to our plots regarding heparin, we can compare the in ICU documentation (*inputevents*) with the hospital level documentation (*emar* and *prescriptions*).\n",
        "\n",
        "Note that the following code is quite complex! At a high level, we are:\n",
        "\n",
        "* looking for `itemid` associated with heparin administration in *inputevents* (usually there will only be one `itemid` for a drug)\n",
        "* separating bolus administrations of this drug (rate is NaN, while amount is non-zero) from the continuous administrations, primarily for visualization purposes\n",
        "  * if you want the total amount of drug received, you could easily sum across the amount column\n",
        "* looking for `medication` associated with heparin administration in *emar*\n",
        "  * again, we separate out bolus administrations from continuous inputs.\n",
        "  * it's not obvious from the code, but the *emar* table has a number of columns which further describe the administration (e.g. the unit of measure for these are \"units\" or \"units/hour\")\n",
        "* finally, we search for `drug` names for heparin in the *prescriptions* table\n",
        "  * many of the prescriptions are ranges (1300-2600 units/hour), so the plot is a shaded box with the lower and upper prescribed dose\n",
        "  * some prescriptions are for large IV mixes of 25,000 units - plot these at 2500 to help the visualization"
      ]
    },
    {
      "cell_type": "code",
      "metadata": {
        "id": "YHCGsfCWUQCI"
      },
      "source": [
        "plt.figure(figsize=[16, 12])\n",
        "\n",
        "# ICU documentation (inputevents) of heparin administration\n",
        "inp_labels = {\n",
        "  225152: 'Heparin (inputevents)'\n",
        "}\n",
        "\n",
        "for itemid, label in inp_labels.items():\n",
        "  idx = inp['itemid'] == itemid\n",
        "  dff = inp.loc[idx].sort_values('starttime')\n",
        "  # first, plot bolus heparin\n",
        "  idx = dff['rate'].isnull()\n",
        "  plt.plot(dff.loc[idx, 'starttime'], dff.loc[idx, 'amount'], 'd', markersize=12, label='Heparin bolus (inputevents)')\n",
        "\n",
        "  for i, row in dff.iterrows():\n",
        "    rate = pd.to_numeric(row['rate'])\n",
        "    plt.plot([row['starttime'], row['endtime']], [rate, rate], 'o-', linewidth=4, color='#fc8d62', label=label)\n",
        "    # disable legend plotting in future rows\n",
        "    label = '__no_legend__'\n",
        "    # plt.fill_between([row['starttime'], row['endtime']], [0, 0], [rate, rate], color='#fc8d62', alpha=0.8)\n",
        "\n",
        "# eMAR documentation of heparin\n",
        "med = 'Heparin'\n",
        "idx_med = (df_emar['medication'] == med)\n",
        "# first, plot bolus separately\n",
        "idx = idx_med & (df_emar['administration_type'] == 'Heparin IV Bolus')\n",
        "plt.plot(df_emar.loc[idx, 'charttime'], df_emar.loc[idx, 'dose_due'], 's', color='#80a0cb', markersize=16, alpha=0.5, label='Heparin bolus (eMAR)')\n",
        "\n",
        "idx = idx_med & (df_emar['administration_type'] != 'Heparin IV Bolus')\n",
        "plt.plot(df_emar.loc[idx, 'charttime'], df_emar.loc[idx, 'dose_due'], 'o', color='#1f78b4', markersize=12, alpha=0.9, label='Heparin (eMAR)')\n",
        "\n",
        "# prescriptions documentation of heparin\n",
        "meds = ['Heparin', 'Heparin Sodium']\n",
        "colors = {\n",
        "    'Heparin': '#1b9e77',\n",
        "    'Heparin Sodium': '#1b9e77',\n",
        "}\n",
        "idx = pr['drug'].isin(meds)\n",
        "df = pr.loc[idx].copy()\n",
        "\n",
        "for med in meds:\n",
        "  label = med + ' (prescriptions)'\n",
        "  color = colors[med]\n",
        "  idx = df['drug'] == med\n",
        "  n = 0\n",
        "  for i, row in df.loc[idx].iterrows():\n",
        "    if n > 0:\n",
        "      # do not add to the legend if we have already plotted at least once\n",
        "      med = '__no_legend__'\n",
        "\n",
        "    xi = [row['starttime'], row['stoptime']]\n",
        "    dose = row['dose_val_rx']\n",
        "    if '-' in dose:\n",
        "      # plot upper/lower ranges\n",
        "      dose_lower, dose_upper = dose.split('-')\n",
        "      dose_lower = int(dose_lower)\n",
        "      dose_upper = int(dose_upper)\n",
        "      plt.fill_between(xi, [dose_lower, dose_lower], [dose_upper, dose_upper], color=color, alpha=0.5, label=label)\n",
        "    else:\n",
        "      dose = pd.to_numeric(dose.replace(',', ''))\n",
        "      dose = dose / 10\n",
        "      plt.plot(xi, [dose, dose], '*-', color=color, label=label)\n",
        "    label = '__no_legend__'\n",
        "\n",
        "    n += 1\n",
        "\n",
        "\n",
        "# shade in their ICU stay\n",
        "upper = 3000\n",
        "for i, row in tr.iterrows():\n",
        "  if row['careunit'] is None:\n",
        "    continue\n",
        "  if 'ICU' in row['careunit']:\n",
        "    plt.fill_between([row['intime'], row['outtime']], [0, 0], [upper, upper], color='#ababab', alpha=0.2)\n",
        "\n",
        "plt.legend(loc='upper right')\n",
        "plt.xticks(rotation=45)\n",
        "plt.ylabel('Heparin administration (units/hour)')\n",
        "\n",
        "# concise dates on the x-axis\n",
        "ax = plt.gca()\n",
        "locator = mdates.AutoDateLocator(minticks=3, maxticks=7)\n",
        "formatter = mdates.ConciseDateFormatter(locator)\n",
        "ax.xaxis.set_major_locator(locator)\n",
        "ax.xaxis.set_major_formatter(formatter)\n",
        "\n",
        "plt.show()"
      ],
      "execution_count": null,
      "outputs": []
    },
    {
      "cell_type": "markdown",
      "metadata": {
        "id": "BjbyP4AibRPp"
      },
      "source": [
        "**Note in the above the Heparin Sodium (prescriptions) are 25,000 units, downscaled by a factor of 10 for clarity.**\n",
        "\n",
        "This plot highlights how useful administration data is. Prescription information describes the intention to treat, while administration describes the actual treatment given. This is very common in MIMIC-IV, particularly for medications which are titrated based on physiology. Note also the relatively good concordance between the manually documented ICU data in *inputevents* and the barcode scanned infusion administration information from *emar*."
      ]
    },
    {
      "cell_type": "markdown",
      "metadata": {
        "id": "f81KJ4SPffif"
      },
      "source": [
        "## That's MIMIC-IV!\n",
        "\n",
        "With the final comparison of the ICU and hospital level medication administration data, you'll now have a pretty good idea of the type information in MIMIC-IV.\n",
        "\n",
        "But we're not done yet! One of the most interesting aspects of MIMIC-IV is that it uses the same patient identifiers as the recently published MIMIC-CXR database. Of course this is intentional to allow linking the to datasets!"
      ]
    },
    {
      "cell_type": "markdown",
      "metadata": {
        "id": "itA7a7LDaUqk"
      },
      "source": [
        "## Chest x-rays for this patient\n",
        "\n",
        "The `mimic_cxr` schema does not contain any of the data for MIMIC-CXR. Instead, it provides a useful mapping between the DICOM filenames and the patient anonymous identifiers.\n",
        "\n",
        "The tables in `mimic_cxr` are:\n",
        "\n",
        "* *study_list* - `subject_id`, `study_id`, `path`\n",
        "  * Contains the relative path to individual radiology reports. Each radiology report is represented by a unique `study_id`. `study_id` is unique in this table (each row has a distinct `study_id`).\n",
        "* *record_list* - `subject_id`, `study_id`, `dicom_id`, `path`\n",
        "  * Contains the relative path to individual DICOMs. Each DICOM (represented by `dicom_id`) stores a chest x-ray related to a single radiographic study (represented by `study_id`). `dicom_id` is unique in this table (each row has a distinct `dicom_id`).\n",
        "* *dicom_metadata_string* - `dicom`, ... (many columns corresponding to DICOM meta-data fields).\n",
        "\n",
        "In order to access the `mimic_cxr` schema, you must request it via [the project page on PhysioNet](https://physionet.org/content/mimic-cxr/)."
      ]
    },
    {
      "cell_type": "code",
      "metadata": {
        "id": "uxdBdNseaTFx"
      },
      "source": [
        "query = f\"\"\"\n",
        "select\n",
        "  subject_id, study_id, path\n",
        "from `physionet-data.mimic_cxr.study_list`\n",
        "where subject_id = {subject_id}\n",
        "ORDER BY study_id\n",
        "\"\"\"\n",
        "cxr_studies = run_query(query)\n",
        "display(cxr_studies)"
      ],
      "execution_count": null,
      "outputs": []
    },
    {
      "cell_type": "markdown",
      "metadata": {
        "id": "0hvk3D0Bcunk"
      },
      "source": [
        "From the above, we can see that this subject had 4 distinct radiology studies which corresponded to chest x-rays. We do not know the order of these studies, or when they were performed, as the `study_id` is a random integer.\n",
        "\n",
        "We can look for the unique DICOMs associated with this patient as well."
      ]
    },
    {
      "cell_type": "code",
      "metadata": {
        "id": "iH_4-LFNctwn"
      },
      "source": [
        "query = f\"\"\"\n",
        "select\n",
        "  subject_id, study_id, dicom_id, path\n",
        "from `physionet-data.mimic_cxr.record_list`\n",
        "where subject_id = {subject_id}\n",
        "ORDER BY study_id, dicom_id\n",
        "\"\"\"\n",
        "cxr_records = run_query(query)\n",
        "display(cxr_records)"
      ],
      "execution_count": null,
      "outputs": []
    },
    {
      "cell_type": "markdown",
      "metadata": {
        "id": "18JrwxmadLdY"
      },
      "source": [
        "We now have six rows. This occurs because we often have more than one image associated with a single radiology study. This is common in chest x-rays, where a frontal view and a side view are standard. The frontal view can be \"PA\", standing for posterior-anterior (the image is a projection of the patient facing *away* from the scanner), or \"AP\" for anterior-posterior (the image is a projection of the patient facing *toward* the scanner). This has a bigger impact on the image than you might think initially, due to the physics of x-ray scanning\n",
        "\n",
        "![AP vs PA chest x-ray.](https://github.com/MIT-LCP/mimic-cxr/raw/master/website/static/img/ap_vs_pa_opt.jpg)\n",
        "\n",
        "As you can see, an AP image would result in a larger shadow of the heart on the x-ray scanner when compared to a PA scan. As a result, the orientation of the patient is important in correctly determining the size of the heart (and this is just the most obvious difference!).\n",
        "\n",
        "Happily, the DICOM header provides information about the patient's orientation, and we have loaded most of the information in the DICOM header into a table on BigQuery. There are *many* columns in this table, but we can subselect the ones relevant for orientation.\n"
      ]
    },
    {
      "cell_type": "code",
      "metadata": {
        "id": "Oh0a6w9Jmb_k"
      },
      "source": [
        "query = f\"\"\"\n",
        "SELECT\n",
        "  dicom, StudyID, PatientID, StudyDate, StudyTime, BodyPartExamined, ViewPosition, `Rows`, Columns, BurnedInAnnotation\n",
        "from `physionet-data.mimic_cxr.dicom_metadata_string`\n",
        "where PatientID = '{subject_id}'\n",
        "ORDER BY 4, 5\n",
        "\"\"\"\n",
        "cxr_metadata = run_query(query)\n",
        "display(cxr_metadata)"
      ],
      "execution_count": null,
      "outputs": []
    },
    {
      "cell_type": "markdown",
      "metadata": {
        "id": "2c3Q7i8dnRS9"
      },
      "source": [
        "Note the slight changes in schema, as this table uses DICOM standard field names. We can see that these are all chest x-rays (`BodyPartExamined`), and one is explicitly noted as a portable chest x-ray (\"PORT CHEST\"). The view position is AP for most images, though one is a lateral x-ray (all side profiles for chest x-rays have the left side of the patient next to the image receptor, so \"LEFT LATERAL\" and \"LATERAL\" are synonymous).\n",
        "\n",
        "Note that we have x-rays from before their ICU admission (2176-11-28), as the patient visited the emergency room (which we saw in the *transfers* table earlier). We'll focus on their x-rays from the same date as their ICU admission.\n",
        "\n",
        "We'll now subselect to the studies performed on 2176-11-28."
      ]
    },
    {
      "cell_type": "code",
      "metadata": {
        "id": "4MNcG-B8oHGV"
      },
      "source": [
        "idx = cxr_metadata['StudyDate'] == '21761128'\n",
        "cxr_metadata = cxr_metadata.loc[idx]\n",
        "\n",
        "cxr_records = cxr_records.merge(cxr_metadata, left_on='dicom_id', right_on='dicom', how='inner')\n",
        "display(cxr_records)"
      ],
      "execution_count": null,
      "outputs": []
    },
    {
      "cell_type": "markdown",
      "metadata": {
        "id": "9q7-uxssSejh"
      },
      "source": [
        "We will also subselect the studies in the `cxr_studies` dataframe."
      ]
    },
    {
      "cell_type": "code",
      "metadata": {
        "id": "fJL3F10lShnn"
      },
      "source": [
        "cxr_studies = cxr_studies.loc[cxr_studies['study_id'].isin(cxr_records['study_id'])]\n",
        "display(cxr_studies)"
      ],
      "execution_count": null,
      "outputs": []
    },
    {
      "cell_type": "markdown",
      "metadata": {
        "id": "iy-wEdfFmbXn"
      },
      "source": [
        "As we can see above, there was a single x-ray performed. We can use the relative pathname provided in the `path` column in combination with the Google Cloud Storage location of the data to load individual reports/images. This requires your PhysioNet account to be linked to your Google account, and requires you to specifically request access to MIMIC-CXR on Google Cloud via the [MIMIC-CXR PhysioNet page](https://physionet.org/content/mimic-cxr/)."
      ]
    },
    {
      "cell_type": "code",
      "metadata": {
        "id": "qn0QcOy9dK2u"
      },
      "source": [
        "import os\n",
        "\n",
        "cxr_location = 'gs://mimic-cxr-2.0.0.physionet.org/'\n",
        "\n",
        "# print out the studies\n",
        "for i, cxr_study in cxr_studies.iterrows():\n",
        "  # load in the text\n",
        "  path = cxr_study['path']\n",
        "  study_id = cxr_study[\"study_id\"]\n",
        "\n",
        "  # the filename is the study_id with .txt extension\n",
        "  # e.g. s########.txt\n",
        "  fn = f's{study_id}.txt'\n",
        "\n",
        "  # download the report if it hasn't been downloaded yet\n",
        "  if not os.path.exists(fn):\n",
        "    !gsutil cp {cxr_location}{path} ./\n",
        "\n",
        "  with open(fn, 'r') as fp:\n",
        "    txt = ''.join(fp.readlines())\n",
        "\n",
        "  print(f'\\n\\n{\"=\"*35} {study_id} {\"=\"*35}\\n')\n",
        "  print(txt)"
      ],
      "execution_count": null,
      "outputs": []
    },
    {
      "cell_type": "markdown",
      "metadata": {
        "id": "kUH3LLntS3V4"
      },
      "source": [
        "This gives us a fairly good idea of why the x-ray was performed. The patient was hypercapnic and they were assessing for some kind of abnormality which might explain the symptom. We can use a similar method to look at the chest x-ray itself!"
      ]
    },
    {
      "cell_type": "code",
      "metadata": {
        "id": "9dlyzTAPTM2D"
      },
      "source": [
        "!pip install pydicom\n",
        "import pydicom"
      ],
      "execution_count": null,
      "outputs": []
    },
    {
      "cell_type": "code",
      "metadata": {
        "id": "qqXKJlTpTphA"
      },
      "source": [
        "# first DICOM study\n",
        "for i, row in cxr_records.iterrows():\n",
        "  dicom_id = row['dicom_id']\n",
        "  dicom_path = row['path']\n",
        "  fn = f'{dicom_id}.dcm'\n",
        "\n",
        "  # download the image if it hasn't been downloaded yet\n",
        "  if not os.path.exists(fn):\n",
        "    # the DICOM is located at: {cxr_location}{path}\n",
        "    # this is of the form:\n",
        "    # gs://<bucket_name>/p10/p1######/s5#######/<dicom_id>.dcm\n",
        "    # where p1###### is the patient identifier\n",
        "    # and s5####### is the study identifier\n",
        "    path = row['path']\n",
        "    !gsutil cp {cxr_location}{path} ./\n",
        "\n",
        "  with open(fn, 'rb') as fp:\n",
        "    plan = pydicom.dcmread(fp)\n",
        "\n",
        "  # print the DICOM plan - this is *long*!\n",
        "  print(plan)\n",
        "\n",
        "  # plot the image\n",
        "  plt.figure(figsize=[16,10])\n",
        "  plt.imshow(plan.pixel_array)\n",
        "  plt.grid(False)\n",
        "  plt.axis('off')\n",
        "  # set colormap to bone\n",
        "  plt.bone()\n",
        "  plt.show()"
      ],
      "execution_count": null,
      "outputs": []
    },
    {
      "cell_type": "markdown",
      "metadata": {
        "id": "xEcuVBKbTPZU"
      },
      "source": [
        "For convenience, the MIMIC-CXR-JPG dataset contains all images in the MIMIC-CXR dataset preprocessed and converted to JPG. We can load these images as well. As JPG is a compressed format, the files are much smaller, though at a loss of resolution."
      ]
    },
    {
      "cell_type": "code",
      "metadata": {
        "id": "m7WbHOH1TDqo"
      },
      "source": [
        "from PIL import Image\n",
        "jpg_location = 'gs://mimic-cxr-jpg-2.0.0.physionet.org/'\n",
        "\n",
        "# first DICOM study\n",
        "for i, row in cxr_records.iterrows():\n",
        "  dicom_id = row['dicom_id']\n",
        "  fn = f'{dicom_id}.jpg'\n",
        "\n",
        "  # download the image if it hasn't been downloaded yet\n",
        "  if not os.path.exists(fn):\n",
        "    path = row['path']\n",
        "    # the DICOM is located at: {cxr_location}{path}\n",
        "    !gsutil cp {jpg_location}{path.replace('.dcm', '.jpg')} ./\n",
        "\n",
        "\n",
        "  # original image\n",
        "  print(fn)\n",
        "  image = Image.open(fn)\n",
        "  fig = plt.figure(figsize=(16,12))\n",
        "  plt.imshow(image)\n",
        "  plt.axis('off')\n",
        "  plt.bone()\n",
        "  plt.show()"
      ],
      "execution_count": null,
      "outputs": []
    },
    {
      "cell_type": "markdown",
      "metadata": {
        "id": "w4tPv7ThVA7a"
      },
      "source": [
        "Note that despite using the same colormap, the JPG and DICOM images appear very slightly different. This occurs because histogram equalization was performed when creating the JPG data. You can read more about the JPG subset on [the PhysioNet project page for MIMIC-CXR-JPG](https://physionet.org/content/mimic-cxr-jpg/2.0.0/)."
      ]
    },
    {
      "cell_type": "markdown",
      "metadata": {
        "id": "cmO0H-PdVdHx"
      },
      "source": [
        "### Combining MIMIC-CXR with MIMIC-IV\n",
        "\n",
        "One important aspect of MIMIC-CXR and MIMIC-IV are that the dates and times are aligned, meaning the time of an x-ray in the DICOM header for MIMIC-CXR matches the time at which it was performed in MIMIC-IV. Recall that the *poe* table mentioned a few chest x-ray orders - let's look for those rows."
      ]
    },
    {
      "cell_type": "code",
      "metadata": {
        "id": "ke4E_IXsbDpy"
      },
      "source": [
        "poe.loc[poe['order_subtype'] == 'General Xray']"
      ],
      "execution_count": null,
      "outputs": []
    },
    {
      "cell_type": "markdown",
      "metadata": {
        "id": "2gCkdjIgbLZG"
      },
      "source": [
        "This says there was an x-ray order at 2176-11-28 14:40:28. We can then look at the metadata in the DICOM header (currently stored in cxr_records) to see if that matches expectation."
      ]
    },
    {
      "cell_type": "code",
      "metadata": {
        "id": "mshfL74XbVs5"
      },
      "source": [
        "cxr_records[['dicom_id', 'subject_id', 'StudyDate', 'StudyTime']]"
      ],
      "execution_count": null,
      "outputs": []
    },
    {
      "cell_type": "markdown",
      "metadata": {
        "id": "s2-BUWb1bVRg"
      },
      "source": [
        "This is telling us that there was an order for an x-ray around 2:40pm, and a chest x-ray study was performed at 3:09pm. Great!\n",
        "\n",
        "We can visualize where this occurred in the patient's hospital course."
      ]
    },
    {
      "cell_type": "code",
      "metadata": {
        "id": "tc5dbVjfWYn6"
      },
      "source": [
        "from matplotlib.offsetbox import TextArea, DrawingArea, OffsetImage, AnnotationBbox\n",
        "\n",
        "\n",
        "plt.figure(figsize=[16, 8])\n",
        "ax = plt.gca()\n",
        "\n",
        "# labs\n",
        "lab_labels = [\n",
        "  'pO2',\n",
        "  'pCO2',\n",
        "  'Calculated Total CO2',\n",
        "]\n",
        "\n",
        "for label in lab_labels:\n",
        "  idx = (lab['label'] == label) & (lab['fluid'] == 'Blood')\n",
        "  plt.plot(lab.loc[idx, 'charttime'], lab.loc[idx, 'valuenum'], 'o--',  label=f'{label}')\n",
        "\n",
        "# add specimen type\n",
        "for i, row in lab.loc[lab['label'] == 'Specimen Type'].iterrows():\n",
        "  plt.text(row['charttime'], 90, row['value'], rotation=60, ha='center')\n",
        "\n",
        "\n",
        "# add in the x-rays\n",
        "for i, row in cxr_records.iterrows():\n",
        "  dicom_id = row['dicom_id']\n",
        "  fn = f'{dicom_id}.jpg'\n",
        "\n",
        "  # get the date/time\n",
        "  studytime = pd.to_datetime('T'.join([row['StudyDate'], row['StudyTime']]))\n",
        "\n",
        "  # load in the JPG\n",
        "  image = Image.open(fn)\n",
        "\n",
        "  # place it on the axis in an annotation box\n",
        "  imagebox = OffsetImage(image, zoom=0.06)\n",
        "  ab = AnnotationBbox(imagebox, (studytime, 25 + i*50), pad=0)\n",
        "  ax.add_artist(ab)\n",
        "\n",
        "  if i == 0:\n",
        "    plt.plot(studytime, 0, 's', markersize=12, label='Chest x-ray measured')\n",
        "\n",
        "# shade in their ICU stay\n",
        "for i, row in tr.iterrows():\n",
        "  if row['careunit'] is None:\n",
        "    continue\n",
        "  if 'ICU' in row['careunit']:\n",
        "    plt.fill_between([row['intime'], row['outtime']], [0, 0], [100, 100], color='#ababab', alpha=0.3)\n",
        "\n",
        "plt.legend(fontsize=16, loc='lower right')\n",
        "plt.xticks(rotation=45)\n",
        "plt.show()"
      ],
      "execution_count": null,
      "outputs": []
    },
    {
      "cell_type": "markdown",
      "metadata": {
        "id": "czPUI-YR0kv9"
      },
      "source": [
        "So it appears that this was an x-ray done while the patient was in hospital, but *after* their ICU stay, probably just to check everything was going OK."
      ]
    }
  ]
}

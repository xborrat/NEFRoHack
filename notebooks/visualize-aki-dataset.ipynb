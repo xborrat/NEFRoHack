{
  "nbformat": 4,
  "nbformat_minor": 0,
  "metadata": {
    "colab": {
      "provenance": [],
      "authorship_tag": "ABX9TyNzZspoNktvFIRlkNRQjAmy",
      "include_colab_link": true
    },
    "kernelspec": {
      "name": "python3",
      "display_name": "Python 3"
    },
    "language_info": {
      "name": "python"
    }
  },
  "cells": [
    {
      "cell_type": "markdown",
      "metadata": {
        "id": "view-in-github",
        "colab_type": "text"
      },
      "source": [
        "<a href=\"https://colab.research.google.com/github/xborrat/NEFRoHack/blob/main/notebooks/visualize-aki-dataset.ipynb\" target=\"_parent\"><img src=\"https://colab.research.google.com/assets/colab-badge.svg\" alt=\"Open In Colab\"/></a>"
      ]
    },
    {
      "cell_type": "code",
      "execution_count": null,
      "metadata": {
        "id": "fzf8hm0-8XVb"
      },
      "outputs": [],
      "source": [
        "# Import libraries\n",
        "from datetime import timedelta\n",
        "import os\n",
        "import sqlite3\n",
        "import sys\n",
        "from pathlib import Path\n",
        "\n",
        "import numpy as np\n",
        "import pandas as pd\n",
        "import matplotlib.pyplot as plt\n",
        "import seaborn as sns\n",
        "import plotly.express as px\n",
        "\n",
        "# below imports are used for pretty pandas dataframes and plots\n",
        "from IPython.display import display, HTML\n",
        "%matplotlib inline\n",
        "plt.style.use('ggplot')\n",
        "plt.rcParams.update({'font.size': 22})\n",
        "\n",
        "# Access data using Google BigQuery.\n",
        "from google.colab import auth\n",
        "from google.cloud import bigquery\n",
        "\n",
        "# You only need to authenticate once per session.\n",
        "auth.authenticate_user()\n",
        "\n",
        "!pip install sweetviz"
      ]
    },
    {
      "cell_type": "code",
      "source": [
        "# extract the dataset from bigquery\n",
        "# Set up environment variables\n",
        "project_id = 'lcp-internal'\n",
        "os.environ[\"GOOGLE_CLOUD_PROJECT\"] = project_id\n",
        "\n",
        "# Read data from BigQuery into pandas dataframes.\n",
        "def run_query(query, project_id=project_id):\n",
        "    return pd.io.gbq.read_gbq(\n",
        "        query,\n",
        "        project_id=project_id,\n",
        "        dialect=\"standard\"\n",
        "    )\n",
        "\n",
        "# test it works\n",
        "df = run_query(\"\"\"\n",
        "SELECT *\n",
        "FROM lcp-internal.aki_study.dataset\n",
        "\"\"\")\n",
        "assert df['hadm_id'].nunique() == df.shape[0]\n",
        "\n",
        "for col in ['heartrate_ed', 'sbp_ed', 'dbp_ed']:\n",
        "  df[col] = pd.to_numeric(df[col], errors='coerce')\n",
        "display(df.head().T)"
      ],
      "metadata": {
        "id": "wa3KRo8t8nG6"
      },
      "execution_count": null,
      "outputs": []
    },
    {
      "cell_type": "code",
      "source": [
        "import sweetviz as sv\n",
        "report = sv.analyze(df, pairwise_analysis='off')"
      ],
      "metadata": {
        "id": "nW9r_Hle8jD3"
      },
      "execution_count": null,
      "outputs": []
    },
    {
      "cell_type": "code",
      "source": [
        "report.show_notebook()"
      ],
      "metadata": {
        "id": "X2RRxFvW9bI0"
      },
      "execution_count": null,
      "outputs": []
    },
    {
      "cell_type": "code",
      "source": [
        "# export dataset to CSV and download\n",
        "df.to_csv('aki_dataset.csv', index=False)\n",
        "from google.colab import files\n",
        "files.download('aki_dataset.csv')"
      ],
      "metadata": {
        "id": "VzdvFS8eCymY"
      },
      "execution_count": null,
      "outputs": []
    }
  ]
}